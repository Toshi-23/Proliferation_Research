{
 "cells": [
  {
   "cell_type": "markdown",
   "id": "0dd47c74",
   "metadata": {},
   "source": [
    "## Fuel Assembly dose rate"
   ]
  },
  {
   "cell_type": "code",
   "execution_count": null,
   "id": "7f22cc4c",
   "metadata": {},
   "outputs": [],
   "source": [
    "import openmc\n",
    "import openmc.deplete\n",
    "import matplotlib.pyplot as plt\n",
    "%matplotlib inline\n",
    "import numpy as np\n",
    "from math import pi\n",
    "import xml.etree.ElementTree as et"
   ]
  },
  {
   "cell_type": "markdown",
   "id": "e374dd9a",
   "metadata": {},
   "source": [
    "### Add data files"
   ]
  },
  {
   "cell_type": "code",
   "execution_count": null,
   "id": "9a694667",
   "metadata": {},
   "outputs": [],
   "source": [
    "ce144_data = openmc.data.Decay('ce144_data')\n",
    "cm244_data = openmc.data.Decay('cm244_data')\n",
    "cs137_data = openmc.data.Decay('cs137_data')\n",
    "cs134_data = openmc.data.Decay('cs134_data')\n",
    "y90_data = openmc.data.Decay('y90_data')\n",
    "sr90_data = openmc.data.Decay('sr90_data')\n",
    "ru106_data = openmc.data.Decay('ru106_data')\n",
    "pu241_data = openmc.data.Decay('pu241_data')\n",
    "pm147_data = openmc.data.Decay('pm147_data')\n",
    "eu154_data = openmc.data.Decay('eu154_data')"
   ]
  },
  {
   "cell_type": "markdown",
   "id": "d48ddbc5",
   "metadata": {},
   "source": [
    "### Create Materials"
   ]
  },
  {
   "cell_type": "code",
   "execution_count": null,
   "id": "336aa40e",
   "metadata": {},
   "outputs": [],
   "source": [
    "# import burned fuel from depletion calculation\n",
    "mat_tree = et.parse('BurnedMaterials15.xml')\n",
    "root = mat_tree.getroot()\n",
    "i=0\n",
    "for child in root:\n",
    "    if child.attrib['name']=='uo2':\n",
    "        uo2_elem = root[i]\n",
    "    i+=1\n",
    "uo2_elem.set('id',1)"
   ]
  },
  {
   "cell_type": "code",
   "execution_count": null,
   "id": "bf9a20a8",
   "metadata": {},
   "outputs": [],
   "source": [
    "burned_fuel = openmc.Material.from_xml_element(uo2_elem)\n",
    "# get activity of burned fuel\n",
    "burnact = burned_fuel.get_activity(by_nuclide=True,units='Bq')\n",
    "\n",
    "fuel = openmc.Material(name='uo2')\n",
    "fuel.set_density('g/cc',10.96)\n",
    "fuel.add_nuclide('U234', 0.000090, 'ao')\n",
    "fuel.add_nuclide('U235', 0.010124, 'ao')\n",
    "fuel.add_nuclide('U236', 0.000046, 'ao')\n",
    "fuel.add_nuclide('U238', 0.323072, 'ao')\n",
    "fuel.add_element('O', 0.666667, 'ao')\n",
    "#fuel.remove_nuclide('O17')\n",
    "fuel.depletable = True\n",
    "\n",
    "clad = openmc.Material(name='Zirc4')\n",
    "clad.set_density('g/cc', 6.56)\n",
    "clad.add_element('O', 0.006790, 'ao')\n",
    "clad.add_element('Cr', 0.001741, 'ao')\n",
    "clad.add_element('Fe', 0.003242, 'ao')\n",
    "clad.add_element('Zr', 0.977549, 'ao')\n",
    "clad.add_element('Sn', 0.010677, 'ao')\n",
    "\n",
    "air = openmc.Material(name=\"air\");\n",
    "air.add_element('O',0.2);\n",
    "air.add_element('N',0.8);\n",
    "air.set_density('g/cm3',1.3e-3);\n",
    "\n",
    "materials = openmc.Materials([burned_fuel, clad, air])\n",
    "materials.export_to_xml(path='/home/m231326/projects/Proliferation_Research/Dose_Calculations/run_files/materials.xml')"
   ]
  },
  {
   "cell_type": "markdown",
   "id": "4d174ea7",
   "metadata": {},
   "source": [
    "### Create Geometry"
   ]
  },
  {
   "cell_type": "code",
   "execution_count": null,
   "id": "7acdcad1",
   "metadata": {},
   "outputs": [],
   "source": [
    "\n",
    "h_cell = 300; # height of pincell\n",
    "\n",
    "r_fuel = 0.42; # fuel radius\n",
    "r_pin = 0.45; # clad radius\n",
    "\n",
    "P_D = 1.4; # pitch to diameter ratio\n",
    "pitch = P_D*(2*r_pin);\n",
    "\n",
    "r_tally_surf = 100 + r_pin;\n",
    "h_tally_surf = 400;\n",
    "\n",
    "\n",
    "# fuel cylinder\n",
    "fuel_cyl = openmc.model.RightCircularCylinder([0,0,-h_cell/2],h_cell,r_fuel);\n",
    "\n",
    "burned_fuel.volume = np.pi*(r_fuel**2)*h_cell;\n",
    "\n",
    "# pin cylinder\n",
    "pin_cyl = openmc.model.RightCircularCylinder([0,0,-(h_cell+(r_pin-r_fuel))/2],h_cell+(r_pin-r_fuel)*2,r_pin);\n",
    "\n",
    "clad.volume = np.pi*((r_pin**2) - (r_fuel**2))*h_cell;\n",
    "\n",
    "# pin cell container\n",
    "\n",
    "#core_cell = openmc.model.RectangularParallelepiped(-pitch/2,pitch/2,\n",
    " #                                                  -pitch/2,pitch/2,\n",
    "#                                                   -(h_cell+100)/2,(h_cell+100)/2,\n",
    "#                                                   boundary_type = \"reflective\");\n",
    "\n",
    "bound_surface = openmc.model.RightCircularCylinder([0,0,-h_tally_surf/2.],h_tally_surf,r_tally_surf,\n",
    "                                               boundary_type= 'vacuum');\n",
    "\n",
    "fuel_cell = openmc.Cell();\n",
    "fuel_cell.region = -fuel_cyl\n",
    "fuel_cell.fill = burned_fuel;\n",
    "\n",
    "clad_cell = openmc.Cell();\n",
    "clad_cell.region = +fuel_cyl & -pin_cyl;\n",
    "clad_cell.fill = clad;\n",
    "\n",
    "mod_cell = openmc.Cell();\n",
    "mod_cell.region = +pin_cyl & -bound_surface;\n",
    "mod_cell.fill = air;\n",
    "\n",
    "root_univ = openmc.Universe();\n",
    "root_univ.add_cells([fuel_cell,clad_cell,mod_cell]);\n",
    "\n",
    "geometry = openmc.Geometry();\n",
    "geometry.root_universe = root_univ;\n",
    "\n",
    "geometry.export_to_xml(path='/home/m231326/projects/Proliferation_Research/Dose_Calculations/run_files/geometry.xml')"
   ]
  },
  {
   "cell_type": "markdown",
   "id": "6fe84779",
   "metadata": {},
   "source": [
    "### Create Tallies and Sources"
   ]
  },
  {
   "cell_type": "code",
   "execution_count": null,
   "id": "803daf94",
   "metadata": {},
   "outputs": [],
   "source": [
    "#s1 = openmc.ZCylinder(r=r_pin) # surface cylinder\n",
    "#s2 = openmc.ZCylinder(r=100) # 1m cylinder\n",
    "flux = openmc.Tally(name = 'flux');\n",
    "energy,dose = openmc.data.dose_coefficients('photon','ISO');\n",
    "dose_filter = openmc.EnergyFunctionFilter(energy,dose);\n",
    "surface_filter = openmc.SurfaceFilter(bound_surface.cyl);\n",
    "\n",
    "flux.filters = [dose_filter,surface_filter];\n",
    "flux.scores = ['current'];\n",
    "tallies = openmc.Tallies([flux]);\n",
    "tallies.export_to_xml(path='/home/m231326/projects/Proliferation_Research/Dose_Calculations/run_files/tallies.xml')"
   ]
  },
  {
   "cell_type": "code",
   "execution_count": null,
   "id": "cf928bf9",
   "metadata": {},
   "outputs": [],
   "source": [
    "ce144_p_src = ce144_data.sources['photon']\n",
    "cm244_p_src = cm244_data.sources['photon']\n",
    "cs137_p_src = cs137_data.sources['photon']\n",
    "cs134_p_src = cs134_data.sources['photon']\n",
    "y90_p_src = y90_data.sources['photon']\n",
    "#sr90_p_src = sr90_data.sources['photon'] # removed because no photon spectra\n",
    "#ru106_p_src = ru106_data.sources['photon'] # removed b/c no photon spectra\n",
    "pu241_p_src = pu241_data.sources['photon']\n",
    "pm147_p_src = pm147_data.sources['photon']\n",
    "eu154_p_src = eu154_data.sources['photon']"
   ]
  },
  {
   "cell_type": "code",
   "execution_count": null,
   "id": "46e7a869",
   "metadata": {},
   "outputs": [],
   "source": [
    "#r_power = openmc.stats.PowerLaw(a=0, b=r_fuel, n=1) # power law sample distribution for radial direction\n",
    "#phi_uni = openmc.stats.Uniform()\n",
    "#z_uni = openmc.stats.Uniform(a=-h_cell/2, b=h_cell/2)\n",
    "#sample_space = openmc.stats.CylindricalIndependent(r_power,phi_uni,z_uni;\n",
    "sample_space = openmc.stats.Point();\n",
    "\n",
    "src_ce144 = openmc.Source(space=sample_space,energy=ce144_p_src,particle='photon');\n",
    "src_ce144.strength = burnact['Ce144'];\n",
    "#source_ce144.strength = 0;\n",
    "src_cm244 = openmc.Source(space=sample_space,energy=cm244_p_src,particle='photon');\n",
    "src_cm244.strength = burnact['Cm244'];\n",
    "\n",
    "src_cs137 = openmc.Source(space=sample_space,energy=cs137_p_src,particle='photon');\n",
    "src_cs137.strength = burnact['Cs137'];\n",
    "#print(burnact['Cs137'])\n",
    "#source_cs137.strength=0;\n",
    "src_cs134 = openmc.Source(space=sample_space,energy=cs134_p_src,particle='photon');\n",
    "src_cs134.strength = burnact['Cs134'];\n",
    "\n",
    "src_y90 = openmc.Source(space=sample_space,energy=y90_p_src,particle='photon');\n",
    "src_y90.strength = burnact['Y90'];\n",
    "\n",
    "src_pu241 = openmc.Source(space=sample_space,energy=pu241_p_src,particle='photon');\n",
    "src_pu241.strength = burnact['Pu241'];\n",
    "\n",
    "src_pm147 = openmc.Source(space=sample_space,energy=pm147_p_src,particle='photon');\n",
    "src_pm147.strength = burnact['Pm147'];\n",
    "\n",
    "src_eu154 = openmc.Source(space=sample_space,energy=eu154_p_src,particle='photon');\n",
    "src_eu154.strength = burnact['Eu154'];\n",
    "\n",
    "\n",
    "settings = openmc.Settings();\n",
    "settings.run_mode = 'fixed source';\n",
    "settings.batches = 100;\n",
    "settings.particles = 30000;\n",
    "settings.generations_per_batch = 100;\n",
    "settings.source = [src_cs137,src_ce144,src_cm244,src_cs134,src_y90,src_pu241,src_pm147,src_eu154];\n",
    "\n",
    "settings.export_to_xml(path='/home/m231326/projects/Proliferation_Research/Dose_Calculations/run_files/settings.xml');"
   ]
  },
  {
   "cell_type": "code",
   "execution_count": null,
   "id": "ada9aed9",
   "metadata": {},
   "outputs": [],
   "source": [
    "#openmc.run(cwd='/home/m231326/projects/Proliferation_Research/Dose_Calculations/run_files')\n",
    "import os\n",
    "os.chdir('./run_files')\n",
    "openmc.run()"
   ]
  },
  {
   "cell_type": "markdown",
   "id": "b3e5aeb4",
   "metadata": {},
   "source": [
    "### Process Tallies"
   ]
  },
  {
   "cell_type": "code",
   "execution_count": null,
   "id": "b7a9478e",
   "metadata": {},
   "outputs": [],
   "source": [
    "sp = openmc.StatePoint('statepoint.100.h5');\n",
    "\n",
    "dose_t = sp.get_tally(name='flux');\n",
    "dose_df = dose_t.get_pandas_dataframe();"
   ]
  },
  {
   "cell_type": "code",
   "execution_count": null,
   "id": "67efe693",
   "metadata": {},
   "outputs": [],
   "source": [
    "current = dose_df['mean']\n",
    "\n",
    "conv_pSv_to_rem = 1e-10\n",
    "surf_area = 2*np.pi*(r_tally_surf)*h_tally_surf # cm^2 for pin\n",
    "time = 3600\n",
    "\n",
    "current = current*conv_pSv_to_rem*time/surf_area\n",
    "print('The dose is approximately %.4g rem/hr' % current)"
   ]
  },
  {
   "cell_type": "code",
   "execution_count": null,
   "id": "ec922063",
   "metadata": {},
   "outputs": [],
   "source": []
  }
 ],
 "metadata": {
  "kernelspec": {
   "display_name": "Python 3 (ipykernel)",
   "language": "python",
   "name": "python3"
  },
  "language_info": {
   "codemirror_mode": {
    "name": "ipython",
    "version": 3
   },
   "file_extension": ".py",
   "mimetype": "text/x-python",
   "name": "python",
   "nbconvert_exporter": "python",
   "pygments_lexer": "ipython3",
   "version": "3.10.10"
  }
 },
 "nbformat": 4,
 "nbformat_minor": 5
}
