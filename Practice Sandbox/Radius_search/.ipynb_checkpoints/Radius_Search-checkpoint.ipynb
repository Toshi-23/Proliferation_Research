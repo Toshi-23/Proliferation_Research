{
 "cells": [
  {
   "cell_type": "markdown",
   "id": "2c8f8c1a",
   "metadata": {},
   "source": [
    "# Radius Search Practice\n",
    "To be used for bare critical mass calculation\n",
    "<br >Created on 18 October 2022"
   ]
  },
  {
   "cell_type": "code",
   "execution_count": 2,
   "id": "8ab64385",
   "metadata": {},
   "outputs": [],
   "source": [
    "# prepare the environment\n",
    "import openmc\n",
    "import matplotlib.pyplot as plt\n",
    "%matplotlib inline\n",
    "import numpy as np"
   ]
  },
  {
   "cell_type": "markdown",
   "id": "22f17e55",
   "metadata": {},
   "source": [
    "## Define Materials"
   ]
  },
  {
   "cell_type": "code",
   "execution_count": null,
   "id": "0f93969e",
   "metadata": {},
   "outputs": [],
   "source": []
  },
  {
   "cell_type": "markdown",
   "id": "282dacba",
   "metadata": {},
   "source": [
    "## Define Geometry"
   ]
  },
  {
   "cell_type": "code",
   "execution_count": null,
   "id": "376e1c30",
   "metadata": {},
   "outputs": [],
   "source": []
  },
  {
   "cell_type": "markdown",
   "id": "bce3a38d",
   "metadata": {},
   "source": [
    "## Create Criticality Settings"
   ]
  },
  {
   "cell_type": "code",
   "execution_count": null,
   "id": "e24ab722",
   "metadata": {},
   "outputs": [],
   "source": [
    "settings = openmc.Settings()\n",
    "settings.run_mode = 'eigenvalue'\n",
    "settings.particles = 2000 # number of particles per batch\n",
    "settings.batches = 100 # number of batches to be run\n",
    "settings.inactive = 25 # number of inactive batches\n",
    "\n",
    "# define source boundary\n",
    "# box = openmc.stats.Box()\n",
    "\n",
    "# define source term\n",
    "src = openmc.Source(space=box)\n",
    "\n",
    "settings.source = src\n",
    "settings.temperaturee['method']='interpolation'\n",
    "# settings.export_to_xml()"
   ]
  }
 ],
 "metadata": {
  "kernelspec": {
   "display_name": "Python 3 (ipykernel)",
   "language": "python",
   "name": "python3"
  },
  "language_info": {
   "codemirror_mode": {
    "name": "ipython",
    "version": 3
   },
   "file_extension": ".py",
   "mimetype": "text/x-python",
   "name": "python",
   "nbconvert_exporter": "python",
   "pygments_lexer": "ipython3",
   "version": "3.10.6"
  }
 },
 "nbformat": 4,
 "nbformat_minor": 5
}
