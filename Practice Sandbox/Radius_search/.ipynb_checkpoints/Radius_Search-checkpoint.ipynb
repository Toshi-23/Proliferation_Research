{
 "cells": [
  {
   "cell_type": "markdown",
   "id": "2c8f8c1a",
   "metadata": {},
   "source": [
    "# Radius Search Practice\n",
    "To be used for bare critical mass calculation\n",
    "<br >Created on 18 October 2022"
   ]
  },
  {
   "cell_type": "code",
   "execution_count": 1,
   "id": "8ab64385",
   "metadata": {},
   "outputs": [],
   "source": [
    "# prepare the environment\n",
    "import openmc\n",
    "import openmc.model\n",
    "import matplotlib.pyplot as plt\n",
    "%matplotlib inline\n",
    "import numpy as np"
   ]
  },
  {
   "cell_type": "markdown",
   "id": "22f17e55",
   "metadata": {},
   "source": [
    "## Create Parametrized Model"
   ]
  },
  {
   "cell_type": "code",
   "execution_count": 11,
   "id": "0f93969e",
   "metadata": {},
   "outputs": [],
   "source": [
    "def build_model(radius):\n",
    "    \n",
    "    # define materials\n",
    "    # HEU U.S. Average taken from PNNL Material compendium\n",
    "    fuel = openmc.Material(name=\"Bare Sphere\")\n",
    "    fuel.set_density('g/cc', 18.724760)\n",
    "    fuel.add_nuclide('U234', 0.009849, 'ao')\n",
    "    fuel.add_nuclide('U235', 0.931550, 'ao')\n",
    "    fuel.add_nuclide('U236', 0.004500, 'ao')\n",
    "    fuel.add_nuclide('U238', 0.054150, 'ao')\n",
    "    \n",
    "    materials = openmc.Materials([fuel])\n",
    "    \n",
    "    # create sphere with radius parameter\n",
    "    sphere_radius = openmc.Sphere(x0=0,y0=0,z0=0,r=radius, boundary_type='vacuum', name='BCM')\n",
    "    \n",
    "    # create core cell\n",
    "    core_cell = openmc.Cell(name='Bare Critical Sphere')\n",
    "    core_cell.fill = fuel\n",
    "    core_cell.region = -sphere_radius\n",
    "    \n",
    "    # create universe geometry\n",
    "    root_uni = openmc.Universe()\n",
    "    root_uni.add_cells([core_cell])\n",
    "    \n",
    "    geometry = openmc.Geometry(root_uni);\n",
    "    # define criticality settings\n",
    "    settings = openmc.Settings()\n",
    "    settings.run_mode = 'eigenvalue' # keff calculation\n",
    "    settings.particles = 5000 # particles per batch (mo betta)\n",
    "    settings.batches = 250 # number of batches\n",
    "    settings.inactive = 50 # inactive batches\n",
    "    \n",
    "    bounds = [-radius, -radius, -radius, \n",
    "             radius, radius, radius]\n",
    "    uniform_dist = openmc.stats.Box(bounds[:3],bounds[3:],\n",
    "                                   only_fissionable=True)\n",
    "    settings.source = openmc.Spurce(space=uniform_dist)\n",
    "    settings.output = {'tallies': False}\n",
    "    \n",
    "    model = openmc.model.Model(bracket[1,100],geometry,materials,settings)\n",
    "    \n",
    "    return model"
   ]
  },
  {
   "cell_type": "markdown",
   "id": "282dacba",
   "metadata": {},
   "source": [
    "## Conduct Radius Search"
   ]
  },
  {
   "cell_type": "code",
   "execution_count": 12,
   "id": "376e1c30",
   "metadata": {},
   "outputs": [
    {
     "ename": "UnboundLocalError",
     "evalue": "local variable 'model' referenced before assignment",
     "output_type": "error",
     "traceback": [
      "\u001b[0;31m---------------------------------------------------------------------------\u001b[0m",
      "\u001b[0;31mUnboundLocalError\u001b[0m                         Traceback (most recent call last)",
      "Cell \u001b[0;32mIn [12], line 1\u001b[0m\n\u001b[0;32m----> 1\u001b[0m crit_r, guesses, keffs \u001b[38;5;241m=\u001b[39m \u001b[43mopenmc\u001b[49m\u001b[38;5;241;43m.\u001b[39;49m\u001b[43msearch_for_keff\u001b[49m\u001b[43m(\u001b[49m\u001b[43mbuild_model\u001b[49m\u001b[43m,\u001b[49m\u001b[43m \u001b[49m\n\u001b[1;32m      2\u001b[0m \u001b[43m                                                \u001b[49m\u001b[43mtol\u001b[49m\u001b[38;5;241;43m=\u001b[39;49m\u001b[38;5;241;43m1e-3\u001b[39;49m\u001b[43m,\u001b[49m\u001b[43m \u001b[49m\u001b[43mprint_iterations\u001b[49m\u001b[38;5;241;43m=\u001b[39;49m\u001b[38;5;28;43;01mTrue\u001b[39;49;00m\u001b[43m,\u001b[49m\n\u001b[1;32m      3\u001b[0m \u001b[43m                                               \u001b[49m\u001b[43mrun_args\u001b[49m\u001b[38;5;241;43m=\u001b[39;49m\u001b[43m{\u001b[49m\u001b[38;5;124;43m'\u001b[39;49m\u001b[38;5;124;43moutput\u001b[39;49m\u001b[38;5;124;43m'\u001b[39;49m\u001b[43m:\u001b[49m\u001b[38;5;28;43;01mFalse\u001b[39;49;00m\u001b[43m}\u001b[49m\u001b[43m)\u001b[49m\n\u001b[1;32m      4\u001b[0m \u001b[38;5;28mprint\u001b[39m(\u001b[38;5;124m'\u001b[39m\u001b[38;5;124mThe bare critical sphere radius is \u001b[39m\u001b[38;5;132;01m%7.4f\u001b[39;00m\u001b[38;5;124m cm.\u001b[39m\u001b[38;5;124m'\u001b[39m \u001b[38;5;241m%\u001b[39m crit_r)\n",
      "File \u001b[0;32m~/anaconda3/envs/omc/lib/python3.10/site-packages/openmc/search.py:154\u001b[0m, in \u001b[0;36msearch_for_keff\u001b[0;34m(model_builder, initial_guess, target, bracket, model_args, tol, bracketed_method, print_iterations, run_args, **kwargs)\u001b[0m\n\u001b[1;32m    152\u001b[0m \u001b[38;5;28;01melif\u001b[39;00m initial_guess \u001b[38;5;129;01mis\u001b[39;00m \u001b[38;5;129;01mnot\u001b[39;00m \u001b[38;5;28;01mNone\u001b[39;00m:\n\u001b[1;32m    153\u001b[0m     model \u001b[38;5;241m=\u001b[39m model_builder(initial_guess, \u001b[38;5;241m*\u001b[39m\u001b[38;5;241m*\u001b[39mmodel_args)\n\u001b[0;32m--> 154\u001b[0m cv\u001b[38;5;241m.\u001b[39mcheck_type(\u001b[38;5;124m'\u001b[39m\u001b[38;5;124mmodel_builder return\u001b[39m\u001b[38;5;124m'\u001b[39m, \u001b[43mmodel\u001b[49m, openmc\u001b[38;5;241m.\u001b[39mmodel\u001b[38;5;241m.\u001b[39mModel)\n\u001b[1;32m    156\u001b[0m \u001b[38;5;66;03m# Set the iteration data storage variables\u001b[39;00m\n\u001b[1;32m    157\u001b[0m guesses \u001b[38;5;241m=\u001b[39m []\n",
      "\u001b[0;31mUnboundLocalError\u001b[0m: local variable 'model' referenced before assignment"
     ]
    }
   ],
   "source": [
    "crit_r, guesses, keffs = openmc.search_for_keff(build_model, \n",
    "                                                tol=1e-3, print_iterations=True,\n",
    "                                               run_args={'output':False})\n",
    "print('The bare critical sphere radius is %7.4f cm.' % crit_r)"
   ]
  }
 ],
 "metadata": {
  "kernelspec": {
   "display_name": "Python 3 (ipykernel)",
   "language": "python",
   "name": "python3"
  },
  "language_info": {
   "codemirror_mode": {
    "name": "ipython",
    "version": 3
   },
   "file_extension": ".py",
   "mimetype": "text/x-python",
   "name": "python",
   "nbconvert_exporter": "python",
   "pygments_lexer": "ipython3",
   "version": "3.10.6"
  }
 },
 "nbformat": 4,
 "nbformat_minor": 5
}
