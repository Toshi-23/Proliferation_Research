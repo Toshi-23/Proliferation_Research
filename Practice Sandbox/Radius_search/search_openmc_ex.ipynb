{
 "cells": [
  {
   "cell_type": "markdown",
   "id": "8cbd606d",
   "metadata": {},
   "source": [
    "## Criticality Search\n",
    "code taken from openmc examples"
   ]
  },
  {
   "cell_type": "code",
   "execution_count": 2,
   "id": "2ce03d6c",
   "metadata": {},
   "outputs": [],
   "source": [
    "# Initialize third-party libraries and the OpenMC Python API\n",
    "import matplotlib.pyplot as plt\n",
    "import numpy as np\n",
    "\n",
    "import openmc\n",
    "import openmc.model\n",
    "\n",
    "%matplotlib inline"
   ]
  },
  {
   "cell_type": "markdown",
   "id": "253a2d2a",
   "metadata": {},
   "source": [
    "## Create parametrized model"
   ]
  },
  {
   "cell_type": "code",
   "execution_count": 4,
   "id": "e18c8a8b",
   "metadata": {},
   "outputs": [],
   "source": [
    "# Create the model. `ppm_Boron` will be the parametric variable.\n",
    "\n",
    "def build_model(ppm_Boron):\n",
    "    \n",
    "    # Create the pin materials\n",
    "    fuel = openmc.Material(name='1.6% Fuel')\n",
    "    fuel.set_density('g/cm3', 10.31341)\n",
    "    fuel.add_element('U', 1., enrichment=1.6)\n",
    "    fuel.add_element('O', 2.)\n",
    "\n",
    "    zircaloy = openmc.Material(name='Zircaloy')\n",
    "    zircaloy.set_density('g/cm3', 6.55)\n",
    "    zircaloy.add_element('Zr', 1.)\n",
    "\n",
    "    water = openmc.Material(name='Borated Water')\n",
    "    water.set_density('g/cm3', 0.741)\n",
    "    water.add_element('H', 2.)\n",
    "    water.add_element('O', 1.)\n",
    "\n",
    "    # Include the amount of boron in the water based on the ppm,\n",
    "    # neglecting the other constituents of boric acid\n",
    "    water.add_element('B', ppm_Boron * 1e-6)\n",
    "    \n",
    "    # Instantiate a Materials object\n",
    "    materials = openmc.Materials([fuel, zircaloy, water])\n",
    "    \n",
    "    # Create cylinders for the fuel and clad\n",
    "    fuel_outer_radius = openmc.ZCylinder(r=0.39218)\n",
    "    clad_outer_radius = openmc.ZCylinder(r=0.45720)\n",
    "\n",
    "    # Create boundary planes to surround the geometry\n",
    "    min_x = openmc.XPlane(x0=-0.63, boundary_type='reflective')\n",
    "    max_x = openmc.XPlane(x0=+0.63, boundary_type='reflective')\n",
    "    min_y = openmc.YPlane(y0=-0.63, boundary_type='reflective')\n",
    "    max_y = openmc.YPlane(y0=+0.63, boundary_type='reflective')\n",
    "\n",
    "    # Create fuel Cell\n",
    "    fuel_cell = openmc.Cell(name='1.6% Fuel')\n",
    "    fuel_cell.fill = fuel\n",
    "    fuel_cell.region = -fuel_outer_radius\n",
    "\n",
    "    # Create a clad Cell\n",
    "    clad_cell = openmc.Cell(name='1.6% Clad')\n",
    "    clad_cell.fill = zircaloy\n",
    "    clad_cell.region = +fuel_outer_radius & -clad_outer_radius\n",
    "\n",
    "    # Create a moderator Cell\n",
    "    moderator_cell = openmc.Cell(name='1.6% Moderator')\n",
    "    moderator_cell.fill = water\n",
    "    moderator_cell.region = +clad_outer_radius & (+min_x & -max_x & +min_y & -max_y)\n",
    "\n",
    "    # Create root Universe\n",
    "    root_universe = openmc.Universe(name='root universe')\n",
    "    root_universe.add_cells([fuel_cell, clad_cell, moderator_cell])\n",
    "\n",
    "    # Create Geometry and set root universe\n",
    "    geometry = openmc.Geometry(root_universe)\n",
    "    \n",
    "    # Instantiate a Settings object\n",
    "    settings = openmc.Settings()\n",
    "    \n",
    "    # Set simulation parameters\n",
    "    settings.batches = 300\n",
    "    settings.inactive = 20\n",
    "    settings.particles = 1000\n",
    "    \n",
    "    # Create an initial uniform spatial source distribution over fissionable zones\n",
    "    bounds = [-0.63, -0.63, -10, 0.63, 0.63, 10.]\n",
    "    uniform_dist = openmc.stats.Box(bounds[:3], bounds[3:], only_fissionable=True)\n",
    "    settings.source = openmc.source.Source(space=uniform_dist)\n",
    "    \n",
    "    # We dont need a tallies file so dont waste the disk input/output time\n",
    "    settings.output = {'tallies': False}\n",
    "    \n",
    "    model = openmc.model.Model(geometry, materials, settings)\n",
    "    \n",
    "    return model"
   ]
  },
  {
   "cell_type": "markdown",
   "id": "a692cadc",
   "metadata": {},
   "source": [
    "## Search for Critical Boron Concentration"
   ]
  },
  {
   "cell_type": "code",
   "execution_count": 6,
   "id": "1526dafe",
   "metadata": {},
   "outputs": [
    {
     "name": "stdout",
     "output_type": "stream",
     "text": [
      "Iteration: 1; Guess of 1.00e+03 produced a keff of 1.08837 +/- 0.00165\n",
      "Iteration: 2; Guess of 2.50e+03 produced a keff of 0.95340 +/- 0.00160\n",
      "Iteration: 3; Guess of 1.75e+03 produced a keff of 1.01339 +/- 0.00177\n",
      "Iteration: 4; Guess of 2.12e+03 produced a keff of 0.98339 +/- 0.00158\n",
      "Iteration: 5; Guess of 1.94e+03 produced a keff of 0.99852 +/- 0.00159\n",
      "Iteration: 6; Guess of 1.84e+03 produced a keff of 1.00975 +/- 0.00165\n",
      "Iteration: 7; Guess of 1.89e+03 produced a keff of 1.00192 +/- 0.00155\n",
      "Iteration: 8; Guess of 1.91e+03 produced a keff of 0.99976 +/- 0.00156\n",
      "Iteration: 9; Guess of 1.90e+03 produced a keff of 1.00274 +/- 0.00157\n",
      "Critical Boron Concentration: 1902 ppm\n"
     ]
    }
   ],
   "source": [
    "# Perform the search\n",
    "crit_ppm, guesses, keffs = openmc.search_for_keff(build_model, bracket=[1000., 2500.],\n",
    "                                                  tol=1e-2, print_iterations=True, \n",
    "                                                  run_args={'output': False})\n",
    "\n",
    "print('Critical Boron Concentration: {:4.0f} ppm'.format(crit_ppm))"
   ]
  },
  {
   "cell_type": "code",
   "execution_count": 7,
   "id": "5fc3007e",
   "metadata": {},
   "outputs": [
    {
     "data": {
      "image/png": "[encoded data removed]",
      "text/plain": [
       "<Figure size 800x450 with 1 Axes>"
      ]
     },
     "metadata": {},
     "output_type": "display_data"
    }
   ],
   "source": [
    "plt.figure(figsize=(8, 4.5))\n",
    "plt.title('Eigenvalue versus Boron Concentration')\n",
    "# Create a scatter plot using the mean value of keff\n",
    "plt.scatter(guesses, [keffs[i].nominal_value for i in range(len(keffs))])\n",
    "plt.xlabel('Boron Concentration [ppm]')\n",
    "plt.ylabel('Eigenvalue')\n",
    "plt.show()"
   ]
  }
 ],
 "metadata": {
  "kernelspec": {
   "display_name": "Python 3 (ipykernel)",
   "language": "python",
   "name": "python3"
  },
  "language_info": {
   "codemirror_mode": {
    "name": "ipython",
    "version": 3
   },
   "file_extension": ".py",
   "mimetype": "text/x-python",
   "name": "python",
   "nbconvert_exporter": "python",
   "pygments_lexer": "ipython3",
   "version": "3.10.6"
  }
 },
 "nbformat": 4,
 "nbformat_minor": 5
}
