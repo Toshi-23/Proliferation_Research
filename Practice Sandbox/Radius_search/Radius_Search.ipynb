{
 "cells": [
  {
   "cell_type": "markdown",
   "id": "2c8f8c1a",
   "metadata": {},
   "source": [
    "# Radius Search Practice\n",
    "To be used for bare critical mass calculation\n",
    "<br >Created on 18 October 2022"
   ]
  },
  {
   "cell_type": "code",
   "execution_count": 1,
   "id": "8ab64385",
   "metadata": {},
   "outputs": [],
   "source": [
    "# prepare the environment\n",
    "import openmc\n",
    "import openmc.model\n",
    "import matplotlib.pyplot as plt\n",
    "%matplotlib inline\n",
    "import numpy as np"
   ]
  },
  {
   "cell_type": "markdown",
   "id": "22f17e55",
   "metadata": {},
   "source": [
    "## Create Parametrized Model"
   ]
  },
  {
   "cell_type": "code",
   "execution_count": 2,
   "id": "0f93969e",
   "metadata": {},
   "outputs": [],
   "source": [
    "def build_model(radius):\n",
    "    \n",
    "    # define materials\n",
    "    # HEU U.S. Average taken from PNNL Material compendium\n",
    "    fuel = openmc.Material(name=\"Bare Sphere\")\n",
    "    fuel.set_density('g/cc', 18.724760)\n",
    "    fuel.add_nuclide('U234', 0.009849, 'ao')\n",
    "    fuel.add_nuclide('U235', 0.931550, 'ao')\n",
    "    fuel.add_nuclide('U236', 0.004500, 'ao')\n",
    "    fuel.add_nuclide('U238', 0.054150, 'ao')\n",
    "    \n",
    "    materials = openmc.Materials([fuel])\n",
    "    \n",
    "    # create sphere with radius parameter\n",
    "    sphere_radius = openmc.Sphere(x0=0,y0=0,z0=0,r=radius, boundary_type='vacuum', name='BCM')\n",
    "    \n",
    "    # create core cell\n",
    "    core_cell = openmc.Cell(name='Bare Critical Sphere')\n",
    "    core_cell.fill = fuel\n",
    "    core_cell.region = -sphere_radius\n",
    "    \n",
    "    # create universe geometry\n",
    "    root_universe = openmc.Universe(name='root universe')\n",
    "    root_universe.add_cells([core_cell])\n",
    "    \n",
    "    geometry = openmc.Geometry(root_universe)\n",
    "    # define criticality settings\n",
    "    settings = openmc.Settings()\n",
    "    settings.run_mode = 'eigenvalue' # keff calculation\n",
    "    settings.particles = 5000 # particles per batch (mo betta)\n",
    "    settings.batches = 250 # number of batches\n",
    "    settings.inactive = 50 # inactive batches\n",
    "    \n",
    "    settings.output = {'tallies': False}\n",
    "    \n",
    "    model = openmc.model.Model(geometry,materials,settings)\n",
    "    \n",
    "    return model"
   ]
  },
  {
   "cell_type": "markdown",
   "id": "282dacba",
   "metadata": {},
   "source": [
    "## Conduct Radius Search"
   ]
  },
  {
   "cell_type": "code",
   "execution_count": 3,
   "id": "376e1c30",
   "metadata": {},
   "outputs": [
    {
     "name": "stdout",
     "output_type": "stream",
     "text": [
      "Iteration: 1; Guess of 1.00e+00 produced a keff of 0.11862 +/- 0.00009\n",
      "Iteration: 2; Guess of 1.00e+02 produced a keff of 2.22317 +/- 0.00049\n",
      "Iteration: 3; Guess of 5.05e+01 produced a keff of 2.12467 +/- 0.00075\n",
      "Iteration: 4; Guess of 2.58e+01 produced a keff of 1.86094 +/- 0.00083\n",
      "Iteration: 5; Guess of 1.34e+01 produced a keff of 1.36645 +/- 0.00077\n",
      "Iteration: 6; Guess of 7.19e+00 produced a keff of 0.84045 +/- 0.00059\n",
      "Iteration: 7; Guess of 1.03e+01 produced a keff of 1.13415 +/- 0.00075\n",
      "Iteration: 8; Guess of 8.73e+00 produced a keff of 0.99613 +/- 0.00070\n",
      "Iteration: 9; Guess of 9.51e+00 produced a keff of 1.06613 +/- 0.00073\n",
      "Iteration: 10; Guess of 9.12e+00 produced a keff of 1.03214 +/- 0.00069\n",
      "Iteration: 11; Guess of 8.93e+00 produced a keff of 1.01502 +/- 0.00066\n",
      "Iteration: 12; Guess of 8.83e+00 produced a keff of 1.00435 +/- 0.00068\n",
      "Iteration: 13; Guess of 8.78e+00 produced a keff of 0.99961 +/- 0.00067\n",
      "Iteration: 14; Guess of 8.81e+00 produced a keff of 1.00332 +/- 0.00064\n",
      "Iteration: 15; Guess of 8.79e+00 produced a keff of 0.99958 +/- 0.00067\n",
      "Iteration: 16; Guess of 8.80e+00 produced a keff of 1.00205 +/- 0.00072\n",
      "The bare critical sphere radius is  8.8008 cm.\n"
     ]
    }
   ],
   "source": [
    "crit_r, guesses, keffs = openmc.search_for_keff(build_model, bracket=[1,100],\n",
    "                                                tol=1e-3, print_iterations=True,\n",
    "                                               run_args={'output':False})\n",
    "print('The bare critical sphere radius is %7.4f cm.' % crit_r)"
   ]
  },
  {
   "cell_type": "code",
   "execution_count": 6,
   "id": "711c7b9d",
   "metadata": {},
   "outputs": [],
   "source": [
    "def build_model2(radius):\n",
    "    \n",
    "    # define materials\n",
    "    # HEU U.S. Average taken from PNNL Material compendium\n",
    "    fuel = openmc.Material(name=\"Bare Sphere\")\n",
    "    fuel.set_density('g/cc', 18.724760)\n",
    "    fuel.add_element('U',1, enrichment=7)\n",
    "    \n",
    "    materials = openmc.Materials([fuel])\n",
    "    \n",
    "    # create sphere with radius parameter\n",
    "    sphere_radius = openmc.Sphere(x0=0,y0=0,z0=0,r=radius, boundary_type='vacuum', name='BCM')\n",
    "    \n",
    "    # create core cell\n",
    "    core_cell = openmc.Cell(name='Bare Critical Sphere')\n",
    "    core_cell.fill = fuel\n",
    "    core_cell.region = -sphere_radius\n",
    "    \n",
    "    # create universe geometry\n",
    "    root_universe = openmc.Universe(name='root universe')\n",
    "    root_universe.add_cells([core_cell])\n",
    "    \n",
    "    geometry = openmc.Geometry(root_universe)\n",
    "    # define criticality settings\n",
    "    settings = openmc.Settings()\n",
    "    settings.run_mode = 'eigenvalue' # keff calculation\n",
    "    settings.particles = 5000 # particles per batch (mo betta)\n",
    "    settings.batches = 250 # number of batches\n",
    "    settings.inactive = 50 # inactive batches\n",
    "    \n",
    "    settings.output = {'tallies': False}\n",
    "    \n",
    "    model = openmc.model.Model(geometry,materials,settings)\n",
    "    \n",
    "    return model"
   ]
  },
  {
   "cell_type": "code",
   "execution_count": 8,
   "id": "bbbdd2b6",
   "metadata": {},
   "outputs": [
    {
     "name": "stderr",
     "output_type": "stream",
     "text": [
      "/home/m231326/anaconda3/envs/omc/lib/python3.10/site-packages/openmc/material.py:640: UserWarning: A uranium enrichment of 7 was given for Material ID=\"35\". OpenMC assumes the U234/U235 mass ratio is constant at 0.008, which is only valid at low enrichments. Consider setting the isotopic composition manually for enrichments over 5%.\n",
      "  warnings.warn(msg)\n",
      "/home/m231326/anaconda3/envs/omc/lib/python3.10/site-packages/openmc/material.py:640: UserWarning: A uranium enrichment of 7 was given for Material ID=\"36\". OpenMC assumes the U234/U235 mass ratio is constant at 0.008, which is only valid at low enrichments. Consider setting the isotopic composition manually for enrichments over 5%.\n",
      "  warnings.warn(msg)\n"
     ]
    },
    {
     "name": "stdout",
     "output_type": "stream",
     "text": [
      "Iteration: 1; Guess of 1.00e+00 produced a keff of 0.03679 +/- 0.00004\n"
     ]
    },
    {
     "name": "stderr",
     "output_type": "stream",
     "text": [
      "/home/m231326/anaconda3/envs/omc/lib/python3.10/site-packages/openmc/material.py:640: UserWarning: A uranium enrichment of 7 was given for Material ID=\"37\". OpenMC assumes the U234/U235 mass ratio is constant at 0.008, which is only valid at low enrichments. Consider setting the isotopic composition manually for enrichments over 5%.\n",
      "  warnings.warn(msg)\n"
     ]
    },
    {
     "name": "stdout",
     "output_type": "stream",
     "text": [
      "Iteration: 2; Guess of 1.00e+02 produced a keff of 1.06237 +/- 0.00069\n"
     ]
    },
    {
     "name": "stderr",
     "output_type": "stream",
     "text": [
      "/home/m231326/anaconda3/envs/omc/lib/python3.10/site-packages/openmc/material.py:640: UserWarning: A uranium enrichment of 7 was given for Material ID=\"38\". OpenMC assumes the U234/U235 mass ratio is constant at 0.008, which is only valid at low enrichments. Consider setting the isotopic composition manually for enrichments over 5%.\n",
      "  warnings.warn(msg)\n"
     ]
    },
    {
     "name": "stdout",
     "output_type": "stream",
     "text": [
      "Iteration: 3; Guess of 5.05e+01 produced a keff of 0.94418 +/- 0.00066\n"
     ]
    },
    {
     "name": "stderr",
     "output_type": "stream",
     "text": [
      "/home/m231326/anaconda3/envs/omc/lib/python3.10/site-packages/openmc/material.py:640: UserWarning: A uranium enrichment of 7 was given for Material ID=\"39\". OpenMC assumes the U234/U235 mass ratio is constant at 0.008, which is only valid at low enrichments. Consider setting the isotopic composition manually for enrichments over 5%.\n",
      "  warnings.warn(msg)\n"
     ]
    },
    {
     "name": "stdout",
     "output_type": "stream",
     "text": [
      "Iteration: 4; Guess of 7.52e+01 produced a keff of 1.02835 +/- 0.00066\n"
     ]
    },
    {
     "name": "stderr",
     "output_type": "stream",
     "text": [
      "/home/m231326/anaconda3/envs/omc/lib/python3.10/site-packages/openmc/material.py:640: UserWarning: A uranium enrichment of 7 was given for Material ID=\"40\". OpenMC assumes the U234/U235 mass ratio is constant at 0.008, which is only valid at low enrichments. Consider setting the isotopic composition manually for enrichments over 5%.\n",
      "  warnings.warn(msg)\n"
     ]
    },
    {
     "name": "stdout",
     "output_type": "stream",
     "text": [
      "Iteration: 5; Guess of 6.29e+01 produced a keff of 0.99703 +/- 0.00063\n"
     ]
    },
    {
     "name": "stderr",
     "output_type": "stream",
     "text": [
      "/home/m231326/anaconda3/envs/omc/lib/python3.10/site-packages/openmc/material.py:640: UserWarning: A uranium enrichment of 7 was given for Material ID=\"41\". OpenMC assumes the U234/U235 mass ratio is constant at 0.008, which is only valid at low enrichments. Consider setting the isotopic composition manually for enrichments over 5%.\n",
      "  warnings.warn(msg)\n"
     ]
    },
    {
     "name": "stdout",
     "output_type": "stream",
     "text": [
      "Iteration: 6; Guess of 6.91e+01 produced a keff of 1.01215 +/- 0.00066\n"
     ]
    },
    {
     "name": "stderr",
     "output_type": "stream",
     "text": [
      "/home/m231326/anaconda3/envs/omc/lib/python3.10/site-packages/openmc/material.py:640: UserWarning: A uranium enrichment of 7 was given for Material ID=\"42\". OpenMC assumes the U234/U235 mass ratio is constant at 0.008, which is only valid at low enrichments. Consider setting the isotopic composition manually for enrichments over 5%.\n",
      "  warnings.warn(msg)\n"
     ]
    },
    {
     "name": "stdout",
     "output_type": "stream",
     "text": [
      "Iteration: 7; Guess of 6.60e+01 produced a keff of 1.00456 +/- 0.00072\n"
     ]
    },
    {
     "name": "stderr",
     "output_type": "stream",
     "text": [
      "/home/m231326/anaconda3/envs/omc/lib/python3.10/site-packages/openmc/material.py:640: UserWarning: A uranium enrichment of 7 was given for Material ID=\"43\". OpenMC assumes the U234/U235 mass ratio is constant at 0.008, which is only valid at low enrichments. Consider setting the isotopic composition manually for enrichments over 5%.\n",
      "  warnings.warn(msg)\n"
     ]
    },
    {
     "name": "stdout",
     "output_type": "stream",
     "text": [
      "Iteration: 8; Guess of 6.44e+01 produced a keff of 1.00077 +/- 0.00069\n"
     ]
    },
    {
     "name": "stderr",
     "output_type": "stream",
     "text": [
      "/home/m231326/anaconda3/envs/omc/lib/python3.10/site-packages/openmc/material.py:640: UserWarning: A uranium enrichment of 7 was given for Material ID=\"44\". OpenMC assumes the U234/U235 mass ratio is constant at 0.008, which is only valid at low enrichments. Consider setting the isotopic composition manually for enrichments over 5%.\n",
      "  warnings.warn(msg)\n"
     ]
    },
    {
     "name": "stdout",
     "output_type": "stream",
     "text": [
      "Iteration: 9; Guess of 6.36e+01 produced a keff of 0.99830 +/- 0.00067\n"
     ]
    },
    {
     "name": "stderr",
     "output_type": "stream",
     "text": [
      "/home/m231326/anaconda3/envs/omc/lib/python3.10/site-packages/openmc/material.py:640: UserWarning: A uranium enrichment of 7 was given for Material ID=\"45\". OpenMC assumes the U234/U235 mass ratio is constant at 0.008, which is only valid at low enrichments. Consider setting the isotopic composition manually for enrichments over 5%.\n",
      "  warnings.warn(msg)\n"
     ]
    },
    {
     "name": "stdout",
     "output_type": "stream",
     "text": [
      "Iteration: 10; Guess of 6.40e+01 produced a keff of 1.00035 +/- 0.00065\n"
     ]
    },
    {
     "name": "stderr",
     "output_type": "stream",
     "text": [
      "/home/m231326/anaconda3/envs/omc/lib/python3.10/site-packages/openmc/material.py:640: UserWarning: A uranium enrichment of 7 was given for Material ID=\"46\". OpenMC assumes the U234/U235 mass ratio is constant at 0.008, which is only valid at low enrichments. Consider setting the isotopic composition manually for enrichments over 5%.\n",
      "  warnings.warn(msg)\n"
     ]
    },
    {
     "name": "stdout",
     "output_type": "stream",
     "text": [
      "Iteration: 11; Guess of 6.38e+01 produced a keff of 0.99849 +/- 0.00069\n"
     ]
    },
    {
     "name": "stderr",
     "output_type": "stream",
     "text": [
      "/home/m231326/anaconda3/envs/omc/lib/python3.10/site-packages/openmc/material.py:640: UserWarning: A uranium enrichment of 7 was given for Material ID=\"47\". OpenMC assumes the U234/U235 mass ratio is constant at 0.008, which is only valid at low enrichments. Consider setting the isotopic composition manually for enrichments over 5%.\n",
      "  warnings.warn(msg)\n"
     ]
    },
    {
     "name": "stdout",
     "output_type": "stream",
     "text": [
      "Iteration: 12; Guess of 6.39e+01 produced a keff of 0.99790 +/- 0.00068\n"
     ]
    },
    {
     "name": "stderr",
     "output_type": "stream",
     "text": [
      "/home/m231326/anaconda3/envs/omc/lib/python3.10/site-packages/openmc/material.py:640: UserWarning: A uranium enrichment of 7 was given for Material ID=\"48\". OpenMC assumes the U234/U235 mass ratio is constant at 0.008, which is only valid at low enrichments. Consider setting the isotopic composition manually for enrichments over 5%.\n",
      "  warnings.warn(msg)\n"
     ]
    },
    {
     "name": "stdout",
     "output_type": "stream",
     "text": [
      "Iteration: 13; Guess of 6.40e+01 produced a keff of 0.99857 +/- 0.00067\n"
     ]
    },
    {
     "name": "stderr",
     "output_type": "stream",
     "text": [
      "/home/m231326/anaconda3/envs/omc/lib/python3.10/site-packages/openmc/material.py:640: UserWarning: A uranium enrichment of 7 was given for Material ID=\"49\". OpenMC assumes the U234/U235 mass ratio is constant at 0.008, which is only valid at low enrichments. Consider setting the isotopic composition manually for enrichments over 5%.\n",
      "  warnings.warn(msg)\n"
     ]
    },
    {
     "name": "stdout",
     "output_type": "stream",
     "text": [
      "Iteration: 14; Guess of 6.40e+01 produced a keff of 1.00001 +/- 0.00065\n",
      "The bare critical sphere radius is 64.0110 cm.\n"
     ]
    }
   ],
   "source": [
    "crit_r1, guesses1, keffs1 = openmc.search_for_keff(build_model2, bracket=[1,100],\n",
    "                                                tol=5e-4, print_iterations=True,\n",
    "                                               run_args={'output':False})\n",
    "print('The bare critical sphere radius is %7.4f cm.' % crit_r1)"
   ]
  },
  {
   "cell_type": "code",
   "execution_count": null,
   "id": "9bce01e3",
   "metadata": {},
   "outputs": [],
   "source": []
  }
 ],
 "metadata": {
  "kernelspec": {
   "display_name": "Python 3 (ipykernel)",
   "language": "python",
   "name": "python3"
  },
  "language_info": {
   "codemirror_mode": {
    "name": "ipython",
    "version": 3
   },
   "file_extension": ".py",
   "mimetype": "text/x-python",
   "name": "python",
   "nbconvert_exporter": "python",
   "pygments_lexer": "ipython3",
   "version": "3.10.6"
  }
 },
 "nbformat": 4,
 "nbformat_minor": 5
}
