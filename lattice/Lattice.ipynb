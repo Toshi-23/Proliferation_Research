{
 "cells": [
  {
   "cell_type": "code",
   "execution_count": 1,
   "id": "5831a67f",
   "metadata": {},
   "outputs": [],
   "source": [
    "import openmc\n",
    "import matplotlib.pyplot as plt\n",
    "%matplotlib inline\n",
    "import numpy as np\n",
    "from math import pi"
   ]
  },
  {
   "cell_type": "code",
   "execution_count": 2,
   "id": "5fca7e4b",
   "metadata": {},
   "outputs": [],
   "source": [
    "# Materials\n",
    "fuel = openmc.Material(name='uo2')\n",
    "fuel.set_density('g/cc',10.96)\n",
    "fuel.add_nuclide('U234', 0.000090, 'ao')\n",
    "fuel.add_nuclide('U235', 0.010124, 'ao')\n",
    "fuel.add_nuclide('U236', 0.000046, 'ao')\n",
    "fuel.add_nuclide('U238', 0.323072, 'ao')\n",
    "fuel.add_element('O', 0.666667, 'ao')\n",
    "#fuel.remove_nuclide('O17')\n",
    "fuel.depletable = True\n",
    "\n",
    "\n",
    "\n",
    "clad = openmc.Material(name='Zirc4')\n",
    "clad.set_density('g/cc', 6.56)\n",
    "clad.add_element('O', 0.006790, 'ao')\n",
    "clad.add_element('Cr', 0.001741, 'ao')\n",
    "clad.add_element('Fe', 0.003242, 'ao')\n",
    "clad.add_element('Zr', 0.977549, 'ao')\n",
    "clad.add_element('Sn', 0.010677, 'ao')\n",
    "\n",
    "air = openmc.Material(name=\"air\");\n",
    "air.add_element('O',0.2);\n",
    "air.add_element('N',0.8);\n",
    "air.set_density('g/cm3',1.3e-3);\n",
    "\n"
   ]
  },
  {
   "cell_type": "code",
   "execution_count": 3,
   "id": "ae469585",
   "metadata": {},
   "outputs": [],
   "source": [
    "# geometry\n",
    "# dimensions from AP1000 Design Control Document, Rev 19, Tier 2, Chapter 4, Section 4.1\n",
    "# https://www.nrc.gov/docs/ML1117/ML11171A443.pdf, table 4.1-1\n",
    "h_fuel = 426.7;\n",
    "r_fuel = 0.4178;\n",
    "r_pin = 0.475;\n",
    "clad_t = r_pin - r_fuel; # ignore gap\n",
    "pin_pitch = 1.26;\n",
    "\n",
    "N_pin_assy = 17;\n",
    "assy_pitch = N_pin_assy*pin_pitch\n",
    "\n",
    "h_outer = 1.1*h_fuel; # height of cylinder for the tally surface\n",
    "r_outer = assy_pitch/2. + 100.; # roughly 1m from the outside of the assembly\n",
    "\n",
    "# basic surfaces\n",
    "\n",
    "fuel_outer = openmc.model.RightCircularCylinder([0.,0.,-h_fuel/2],h_fuel,radius=r_fuel,\n",
    "                                             axis='z');\n",
    "clad_outer = openmc.model.RightCircularCylinder([0.,0.,-h_fuel/2-clad_t],\n",
    "                                                h_fuel+2*clad_t,radius=r_pin,\n",
    "                                               axis = 'z');\n",
    "\n",
    "# fuel pin universe\n",
    "\n",
    "fp_fuel = openmc.Cell(name='fuel');\n",
    "fp_fuel.fill = fuel;\n",
    "fp_fuel.region = -fuel_outer\n",
    "\n",
    "fp_clad = openmc.Cell(name='fuel clad');\n",
    "fp_clad.fill = clad;\n",
    "fp_clad.region = +fuel_outer & -clad_outer\n",
    "\n",
    "fp_air = openmc.Cell(name='air around fuel')\n",
    "fp_air.fill = air;\n",
    "fp_air.region = +clad_outer\n",
    "\n",
    "fp = openmc.Universe();\n",
    "fp.add_cells((fp_fuel,fp_clad,fp_air));\n",
    "\n",
    "\n"
   ]
  },
  {
   "cell_type": "code",
   "execution_count": 4,
   "id": "33c5d293",
   "metadata": {},
   "outputs": [],
   "source": [
    "# some colors for plotting\n",
    "colors = {}\n",
    "colors[fuel] = 'yellow';\n",
    "colors[clad] = 'gray';\n",
    "colors[air] = 'pink';"
   ]
  },
  {
   "cell_type": "code",
   "execution_count": 5,
   "id": "04193141",
   "metadata": {},
   "outputs": [
    {
     "data": {
      "text/plain": [
       "<matplotlib.image.AxesImage at 0x14cf7dfe77f0>"
      ]
     },
     "execution_count": 5,
     "metadata": {},
     "output_type": "execute_result"
    },
    {
     "data": {
      "image/png": "[encoded data removed]",
      "text/plain": [
       "<Figure size 258.065x259.74 with 1 Axes>"
      ]
     },
     "metadata": {},
     "output_type": "display_data"
    }
   ],
   "source": [
    "fp.plot(width=(pin_pitch,pin_pitch),\n",
    "        color_by='material',colors=colors)"
   ]
  },
  {
   "cell_type": "code",
   "execution_count": 6,
   "id": "092e3f5e",
   "metadata": {},
   "outputs": [
    {
     "data": {
      "text/plain": [
       "<matplotlib.image.AxesImage at 0x14d0c8159d60>"
      ]
     },
     "execution_count": 6,
     "metadata": {},
     "output_type": "execute_result"
    },
    {
     "data": {
      "image/png": "[encoded data removed]",
      "text/plain": [
       "<Figure size 258.065x259.74 with 1 Axes>"
      ]
     },
     "metadata": {},
     "output_type": "display_data"
    }
   ],
   "source": [
    "# guide tube universe\n",
    "gt_inner = openmc.Cell(name='gt inner')\n",
    "gt_inner.fill = air;\n",
    "gt_inner.region = -fuel_outer\n",
    "\n",
    "gt_clad = openmc.Cell(name='gt clad')\n",
    "gt_clad.fill = clad;\n",
    "gt_clad.region = +fuel_outer & -clad_outer\n",
    "\n",
    "gt_outer = openmc.Cell(name='gt outer')\n",
    "gt_outer.fill = air;\n",
    "gt_outer.region = +clad_outer\n",
    "\n",
    "gt = openmc.Universe()\n",
    "gt.add_cells((gt_inner,gt_clad,gt_outer));\n",
    "\n",
    "gt.plot(width=(pin_pitch,pin_pitch),\n",
    "        color_by='material',colors=colors)"
   ]
  },
  {
   "cell_type": "code",
   "execution_count": 7,
   "id": "f65ce071",
   "metadata": {},
   "outputs": [],
   "source": [
    "# \"All air\" universe to serve as the \"outer\" universe\n",
    "just_air_cell = openmc.Cell(name='just air')\n",
    "just_air_cell.fill = air\n",
    "\n",
    "just_air = openmc.Universe();\n",
    "just_air.add_cell(just_air_cell);\n"
   ]
  },
  {
   "cell_type": "code",
   "execution_count": 8,
   "id": "d6ca0e0c",
   "metadata": {},
   "outputs": [],
   "source": [
    "assy_outer = openmc.model.RectangularParallelepiped(-assy_pitch/2.,assy_pitch/2.,-assy_pitch/2.,assy_pitch/2.,\n",
    "                                                    -h_fuel/2.-clad_t,h_fuel/2.+clad_t);\n",
    "\n",
    "# assembly layout based on AP1000 DCD Rev 19, Tier 2, Chapter 4, Section 4.2\n",
    "# figure 4.2-1.\n",
    "# https://www.nrc.gov/docs/ML1117/ML11171A444.pdf\n",
    "\n",
    "assy_lattice = openmc.RectLattice()\n",
    "assy_lattice.dimension = [17,17];\n",
    "assy_lattice.lower_left = [-assy_pitch/2,-assy_pitch/2];\n",
    "assy_lattice.pitch = [pin_pitch,pin_pitch];\n",
    "assy_lattice.universes = [\n",
    "    [fp,fp,fp,fp,fp,fp,fp,fp,fp,fp,fp,fp,fp,fp,fp,fp,fp],\n",
    "    [fp,fp,fp,fp,fp,fp,fp,fp,fp,fp,fp,fp,fp,fp,fp,fp,fp],\n",
    "    [fp,fp,fp,fp,fp,gt,fp,fp,gt,fp,fp,gt,fp,fp,fp,fp,fp],\n",
    "    [fp,fp,fp,gt,fp,fp,fp,fp,fp,fp,fp,fp,fp,gt,fp,fp,fp],\n",
    "    [fp,fp,fp,fp,fp,fp,fp,fp,fp,fp,fp,fp,fp,fp,fp,fp,fp],\n",
    "    [fp,fp,gt,fp,fp,gt,fp,fp,gt,fp,fp,gt,fp,fp,gt,fp,fp],\n",
    "    [fp,fp,fp,fp,fp,fp,fp,fp,fp,fp,fp,fp,fp,fp,fp,fp,fp],\n",
    "    [fp,fp,fp,fp,fp,fp,fp,fp,fp,fp,fp,fp,fp,fp,fp,fp,fp],\n",
    "    [fp,fp,gt,fp,fp,gt,fp,fp,gt,fp,fp,gt,fp,fp,gt,fp,fp],\n",
    "    [fp,fp,fp,fp,fp,fp,fp,fp,fp,fp,fp,fp,fp,fp,fp,fp,fp],\n",
    "    [fp,fp,fp,fp,fp,fp,fp,fp,fp,fp,fp,fp,fp,fp,fp,fp,fp],\n",
    "    [fp,fp,gt,fp,fp,gt,fp,fp,gt,fp,fp,gt,fp,fp,gt,fp,fp],\n",
    "    [fp,fp,fp,fp,fp,fp,fp,fp,fp,fp,fp,fp,fp,fp,fp,fp,fp],\n",
    "    [fp,fp,fp,gt,fp,fp,fp,fp,fp,fp,fp,fp,fp,gt,fp,fp,fp],\n",
    "    [fp,fp,fp,fp,fp,gt,fp,fp,gt,fp,fp,gt,fp,fp,fp,fp,fp],\n",
    "    [fp,fp,fp,fp,fp,fp,fp,fp,fp,fp,fp,fp,fp,fp,fp,fp,fp],\n",
    "    [fp,fp,fp,fp,fp,fp,fp,fp,fp,fp,fp,fp,fp,fp,fp,fp,fp]\n",
    "];\n",
    "\n",
    "assy_lattice.outer = just_air;\n",
    "\n",
    "tally_surface = openmc.model.RightCircularCylinder([0.,0.,-h_outer/2.],h_outer,r_outer,\n",
    "                                                  boundary_type = 'vacuum');\n",
    "\n",
    "assy_cell = openmc.Cell(name='assy')\n",
    "assy_cell.fill = assy_lattice;\n",
    "assy_cell.region = -assy_outer;\n",
    "\n",
    "air_cell = openmc.Cell(name='air cell')\n",
    "air_cell.fill = air;\n",
    "air_cell.region = +assy_outer & -tally_surface\n",
    "\n",
    "root = openmc.Universe();\n",
    "root.add_cells([assy_cell,air_cell]);\n",
    "\n",
    "g = openmc.Geometry();\n",
    "g.root_universe = root;\n",
    "g.export_to_xml();\n",
    "\n",
    "fuel.volume = (17.*17. - 25.)*np.pi*(r_fuel**2)*h_fuel;\n",
    "materials = openmc.Materials([fuel,clad,air])\n",
    "mf = openmc.Materials();\n",
    "mf += [fuel,clad,air];\n",
    "mf.export_to_xml();\n"
   ]
  },
  {
   "cell_type": "code",
   "execution_count": 9,
   "id": "af6b0bb0",
   "metadata": {},
   "outputs": [
    {
     "data": {
      "text/plain": [
       "<matplotlib.image.AxesImage at 0x14d0c80cef10>"
      ]
     },
     "execution_count": 9,
     "metadata": {},
     "output_type": "execute_result"
    },
    {
     "data": {
      "image/png": "[encoded data removed]",
      "text/plain": [
       "<Figure size 774.194x779.221 with 1 Axes>"
      ]
     },
     "metadata": {},
     "output_type": "display_data"
    }
   ],
   "source": [
    "root.plot(width=(1.5*assy_pitch,1.5*assy_pitch),\n",
    "        color_by='material',colors=colors,\n",
    "         pixels=(600,600))"
   ]
  },
  {
   "cell_type": "code",
   "execution_count": 10,
   "id": "661dbb40",
   "metadata": {},
   "outputs": [],
   "source": [
    "fuel_activity = fuel.get_activity(by_nuclide=True,units='Bq')"
   ]
  },
  {
   "cell_type": "code",
   "execution_count": 11,
   "id": "9630a12c",
   "metadata": {},
   "outputs": [
    {
     "name": "stdout",
     "output_type": "stream",
     "text": [
      "1431665069.8197637\n"
     ]
    }
   ],
   "source": [
    "print(fuel_activity['U235']) # just to be sure..."
   ]
  },
  {
   "cell_type": "code",
   "execution_count": 12,
   "id": "90b38e79",
   "metadata": {},
   "outputs": [],
   "source": [
    "# make my tally\n",
    "flux = openmc.Tally(name = 'flux');\n",
    "energy,dose = openmc.data.dose_coefficients('photon','ISO');\n",
    "dose_filter = openmc.EnergyFunctionFilter(energy,dose);\n",
    "surface_filter = openmc.SurfaceFilter(tally_surface.cyl);\n",
    "\n",
    "flux.filters = [dose_filter,surface_filter];\n",
    "flux.scores = ['current'];\n",
    "tallies = openmc.Tallies([flux]);\n",
    "tallies.export_to_xml();"
   ]
  },
  {
   "cell_type": "code",
   "execution_count": 13,
   "id": "ef3672f3",
   "metadata": {},
   "outputs": [],
   "source": [
    "# Read data and make my source\n",
    "u235_data = openmc.data.Decay('u235_data');\n",
    "u238_data = openmc.data.Decay('u238_data');\n",
    "\n",
    "u235_p_src = u235_data.sources['photon'];\n",
    "u238_p_src = u238_data.sources['photon'];\n",
    "\n",
    "# sample space\n",
    "x_uni = openmc.stats.Uniform(a=-assy_pitch/2.,b=assy_pitch/2.);\n",
    "y_uni = openmc.stats.Uniform(a=-assy_pitch/2.,b=assy_pitch/2.);\n",
    "z_uni = openmc.stats.Uniform(a=-h_fuel/2.,b=h_fuel/2.);\n",
    "sample_space = openmc.stats.CartesianIndependent(x_uni,y_uni,z_uni);\n",
    "\n",
    "\n",
    "src_u235 = openmc.Source(space=sample_space,energy=u235_p_src,particle='photon');\n",
    "src_u235.strength=fuel_activity['U235'];\n",
    "\n",
    "src_u238 = openmc.Source(space=sample_space,energy=u238_p_src,particle='photon');\n",
    "src_u238.strength=fuel_activity['U238'];\n",
    "\n",
    "settings = openmc.Settings();\n",
    "settings.run_mode = 'fixed source';\n",
    "settings.batches = 100;\n",
    "settings.particles = 50000;\n",
    "settings.source = [src_u235,src_u238];\n",
    "\n",
    "settings.export_to_xml();\n"
   ]
  },
  {
   "cell_type": "code",
   "execution_count": 14,
   "id": "5fdb1b9e",
   "metadata": {},
   "outputs": [
    {
     "name": "stdout",
     "output_type": "stream",
     "text": [
      "hwloc/linux: Ignoring PCI device with non-16bit domain.\n",
      "Pass --enable-32bits-pci-domain to configure to support such devices\n",
      "(warning: it would break the library ABI, don't enable unless really needed).\n",
      "                                %%%%%%%%%%%%%%%\n",
      "                           %%%%%%%%%%%%%%%%%%%%%%%%\n",
      "                        %%%%%%%%%%%%%%%%%%%%%%%%%%%%%%\n",
      "                      %%%%%%%%%%%%%%%%%%%%%%%%%%%%%%%%%%\n",
      "                    %%%%%%%%%%%%%%%%%%%%%%%%%%%%%%%%%%%%%%\n",
      "                   %%%%%%%%%%%%%%%%%%%%%%%%%%%%%%%%%%%%%%%%\n",
      "                                    %%%%%%%%%%%%%%%%%%%%%%%%\n",
      "                                     %%%%%%%%%%%%%%%%%%%%%%%%\n",
      "                 ###############      %%%%%%%%%%%%%%%%%%%%%%%%\n",
      "                ##################     %%%%%%%%%%%%%%%%%%%%%%%\n",
      "                ###################     %%%%%%%%%%%%%%%%%%%%%%%\n",
      "                ####################     %%%%%%%%%%%%%%%%%%%%%%\n",
      "                #####################     %%%%%%%%%%%%%%%%%%%%%\n",
      "                ######################     %%%%%%%%%%%%%%%%%%%%\n",
      "                #######################     %%%%%%%%%%%%%%%%%%\n",
      "                 #######################     %%%%%%%%%%%%%%%%%\n",
      "                 ######################     %%%%%%%%%%%%%%%%%\n",
      "                  ####################     %%%%%%%%%%%%%%%%%\n",
      "                    #################     %%%%%%%%%%%%%%%%%\n",
      "                     ###############     %%%%%%%%%%%%%%%%\n",
      "                       ############     %%%%%%%%%%%%%%%\n",
      "                          ########     %%%%%%%%%%%%%%\n",
      "                                      %%%%%%%%%%%\n",
      "\n",
      "                 | The OpenMC Monte Carlo Code\n",
      "       Copyright | 2011-2022 MIT, UChicago Argonne LLC, and contributors\n",
      "         License | https://docs.openmc.org/en/latest/license.html\n",
      "         Version | 0.13.2\n",
      "        Git SHA1 | d349674efaa19b4338c81a12b08a079195aca35a\n",
      "       Date/Time | 2023-04-06 12:26:00\n",
      "   MPI Processes | 1\n",
      "  OpenMP Threads | 36\n",
      "\n",
      " Reading settings XML file...\n",
      " Reading cross sections XML file...\n",
      " Reading materials XML file...\n",
      " Reading geometry XML file...\n",
      " Reading U234 from /home/sblair/OMC_DATA/endfb71_hdf5/U234.h5\n",
      " Reading U from /home/sblair/OMC_DATA/endfb71_hdf5/photon/U.h5 \n",
      " Reading U235 from /home/sblair/OMC_DATA/endfb71_hdf5/U235.h5\n",
      " Reading U236 from /home/sblair/OMC_DATA/endfb71_hdf5/U236.h5\n",
      " Reading U238 from /home/sblair/OMC_DATA/endfb71_hdf5/U238.h5\n",
      " Reading O16 from /home/sblair/OMC_DATA/endfb71_hdf5/O16.h5\n",
      " Reading O from /home/sblair/OMC_DATA/endfb71_hdf5/photon/O.h5 \n",
      " Reading O17 from /home/sblair/OMC_DATA/endfb71_hdf5/O17.h5\n",
      " Reading Cr50 from /home/sblair/OMC_DATA/endfb71_hdf5/Cr50.h5\n",
      " Reading Cr from /home/sblair/OMC_DATA/endfb71_hdf5/photon/Cr.h5 \n",
      " Reading Cr52 from /home/sblair/OMC_DATA/endfb71_hdf5/Cr52.h5\n",
      " Reading Cr53 from /home/sblair/OMC_DATA/endfb71_hdf5/Cr53.h5\n",
      " Reading Cr54 from /home/sblair/OMC_DATA/endfb71_hdf5/Cr54.h5\n",
      " Reading Fe54 from /home/sblair/OMC_DATA/endfb71_hdf5/Fe54.h5\n",
      " Reading Fe from /home/sblair/OMC_DATA/endfb71_hdf5/photon/Fe.h5 \n",
      " Reading Fe56 from /home/sblair/OMC_DATA/endfb71_hdf5/Fe56.h5\n",
      " Reading Fe57 from /home/sblair/OMC_DATA/endfb71_hdf5/Fe57.h5\n",
      " Reading Fe58 from /home/sblair/OMC_DATA/endfb71_hdf5/Fe58.h5\n",
      " Reading Zr90 from /home/sblair/OMC_DATA/endfb71_hdf5/Zr90.h5\n",
      " Reading Zr from /home/sblair/OMC_DATA/endfb71_hdf5/photon/Zr.h5 \n",
      " Reading Zr91 from /home/sblair/OMC_DATA/endfb71_hdf5/Zr91.h5\n",
      " Reading Zr92 from /home/sblair/OMC_DATA/endfb71_hdf5/Zr92.h5\n",
      " Reading Zr94 from /home/sblair/OMC_DATA/endfb71_hdf5/Zr94.h5\n",
      " Reading Zr96 from /home/sblair/OMC_DATA/endfb71_hdf5/Zr96.h5\n",
      " Reading Sn112 from /home/sblair/OMC_DATA/endfb71_hdf5/Sn112.h5\n",
      " Reading Sn from /home/sblair/OMC_DATA/endfb71_hdf5/photon/Sn.h5 \n",
      " Reading Sn114 from /home/sblair/OMC_DATA/endfb71_hdf5/Sn114.h5\n",
      " Reading Sn115 from /home/sblair/OMC_DATA/endfb71_hdf5/Sn115.h5\n",
      " Reading Sn116 from /home/sblair/OMC_DATA/endfb71_hdf5/Sn116.h5\n",
      " Reading Sn117 from /home/sblair/OMC_DATA/endfb71_hdf5/Sn117.h5\n",
      " Reading Sn118 from /home/sblair/OMC_DATA/endfb71_hdf5/Sn118.h5\n",
      " Reading Sn119 from /home/sblair/OMC_DATA/endfb71_hdf5/Sn119.h5\n",
      " Reading Sn120 from /home/sblair/OMC_DATA/endfb71_hdf5/Sn120.h5\n",
      " Reading Sn122 from /home/sblair/OMC_DATA/endfb71_hdf5/Sn122.h5\n",
      " Reading Sn124 from /home/sblair/OMC_DATA/endfb71_hdf5/Sn124.h5\n",
      " Reading N14 from /home/sblair/OMC_DATA/endfb71_hdf5/N14.h5\n",
      " Reading N from /home/sblair/OMC_DATA/endfb71_hdf5/photon/N.h5 \n",
      " Reading N15 from /home/sblair/OMC_DATA/endfb71_hdf5/N15.h5\n",
      " Minimum neutron data temperature: 294 K\n",
      " Maximum neutron data temperature: 294 K\n",
      " Reading tallies XML file...\n",
      " WARNING: Particle filter is not used with photon transport on and current\n",
      "          score.\n",
      " Preparing distributed cell instances...\n",
      " Reading plot XML file...\n",
      " Writing summary.h5 file...\n",
      " Maximum neutron transport energy: 20000000 eV for U235\n",
      "\n",
      " ===============>     FIXED SOURCE TRANSPORT SIMULATION     <===============\n",
      "\n",
      " Simulating batch 1\n",
      " Simulating batch 2\n",
      " Simulating batch 3\n",
      " Simulating batch 4\n",
      " Simulating batch 5\n",
      " Simulating batch 6\n",
      " Simulating batch 7\n",
      " Simulating batch 8\n",
      " Simulating batch 9\n",
      " Simulating batch 10\n",
      " Simulating batch 11\n",
      " Simulating batch 12\n",
      " Simulating batch 13\n",
      " Simulating batch 14\n",
      " Simulating batch 15\n",
      " Simulating batch 16\n",
      " Simulating batch 17\n",
      " Simulating batch 18\n",
      " Simulating batch 19\n",
      " Simulating batch 20\n",
      " Simulating batch 21\n",
      " Simulating batch 22\n",
      " Simulating batch 23\n",
      " Simulating batch 24\n",
      " Simulating batch 25\n",
      " Simulating batch 26\n",
      " Simulating batch 27\n",
      " Simulating batch 28\n",
      " Simulating batch 29\n",
      " Simulating batch 30\n",
      " Simulating batch 31\n",
      " Simulating batch 32\n",
      " Simulating batch 33\n",
      " Simulating batch 34\n",
      " Simulating batch 35\n",
      " Simulating batch 36\n",
      " Simulating batch 37\n",
      " Simulating batch 38\n",
      " Simulating batch 39\n",
      " Simulating batch 40\n",
      " Simulating batch 41\n",
      " Simulating batch 42\n",
      " Simulating batch 43\n",
      " Simulating batch 44\n",
      " Simulating batch 45\n",
      " Simulating batch 46\n",
      " Simulating batch 47\n",
      " Simulating batch 48\n",
      " Simulating batch 49\n",
      " Simulating batch 50\n",
      " Simulating batch 51\n",
      " Simulating batch 52\n",
      " Simulating batch 53\n",
      " Simulating batch 54\n",
      " Simulating batch 55\n",
      " Simulating batch 56\n",
      " Simulating batch 57\n",
      " Simulating batch 58\n",
      " Simulating batch 59\n",
      " Simulating batch 60\n",
      " Simulating batch 61\n",
      " Simulating batch 62\n",
      " Simulating batch 63\n",
      " Simulating batch 64\n",
      " Simulating batch 65\n",
      " Simulating batch 66\n",
      " Simulating batch 67\n",
      " Simulating batch 68\n",
      " Simulating batch 69\n",
      " Simulating batch 70\n",
      " Simulating batch 71\n",
      " Simulating batch 72\n",
      " Simulating batch 73\n",
      " Simulating batch 74\n",
      " Simulating batch 75\n",
      " Simulating batch 76\n",
      " Simulating batch 77\n",
      " Simulating batch 78\n",
      " Simulating batch 79\n",
      " Simulating batch 80\n",
      " Simulating batch 81\n",
      " Simulating batch 82\n",
      " Simulating batch 83\n",
      " Simulating batch 84\n",
      " Simulating batch 85\n",
      " Simulating batch 86\n",
      " Simulating batch 87\n",
      " Simulating batch 88\n",
      " Simulating batch 89\n",
      " Simulating batch 90\n",
      " Simulating batch 91\n",
      " Simulating batch 92\n",
      " Simulating batch 93\n",
      " Simulating batch 94\n",
      " Simulating batch 95\n",
      " Simulating batch 96\n",
      " Simulating batch 97\n",
      " Simulating batch 98\n",
      " Simulating batch 99\n",
      " Simulating batch 100\n",
      " Creating state point statepoint.100.h5...\n",
      "\n",
      " =======================>     TIMING STATISTICS     <=======================\n",
      "\n",
      " Total time for initialization     = 1.9161e+00 seconds\n",
      "   Reading cross sections          = 1.8870e+00 seconds\n",
      " Total time in simulation          = 6.6347e+00 seconds\n",
      "   Time in transport only          = 6.5394e+00 seconds\n",
      "   Time in active batches          = 6.6347e+00 seconds\n",
      "   Time accumulating tallies       = 8.2265e-02 seconds\n",
      "   Time writing statepoints        = 3.7095e-03 seconds\n",
      " Total time for finalization       = 1.2229e-04 seconds\n",
      " Total time elapsed                = 8.5622e+00 seconds\n",
      " Calculation Rate (active)         = 753611 particles/second\n",
      "\n",
      " ============================>     RESULTS     <============================\n",
      "\n",
      " Leakage Fraction            = 0.03536 +/- 0.00008\n",
      "\n"
     ]
    }
   ],
   "source": [
    "openmc.run()"
   ]
  },
  {
   "cell_type": "code",
   "execution_count": 15,
   "id": "5cd2b366",
   "metadata": {},
   "outputs": [],
   "source": [
    "sp = openmc.StatePoint('statepoint.100.h5');\n",
    "\n",
    "dose_t = sp.get_tally(name='flux');\n",
    "dose_df = dose_t.get_pandas_dataframe();"
   ]
  },
  {
   "cell_type": "code",
   "execution_count": 16,
   "id": "0b1800b7",
   "metadata": {},
   "outputs": [
    {
     "name": "stdout",
     "output_type": "stream",
     "text": [
      "The dose is approximately 4.076e-05 rem/hr\n"
     ]
    }
   ],
   "source": [
    "current = dose_df['mean']\n",
    "\n",
    "conv_pSv_to_rem = 1e-10\n",
    "surf_area = 2*np.pi*(r_outer)*h_outer # cm^2 for pin\n",
    "time = 3600\n",
    "\n",
    "current = current*conv_pSv_to_rem*time/surf_area\n",
    "print('The dose is approximately %.4g rem/hr' % current)"
   ]
  },
  {
   "cell_type": "code",
   "execution_count": null,
   "id": "0efd1c8c",
   "metadata": {},
   "outputs": [],
   "source": []
  }
 ],
 "metadata": {
  "kernelspec": {
   "display_name": "Python 3 (ipykernel)",
   "language": "python",
   "name": "python3"
  },
  "language_info": {
   "codemirror_mode": {
    "name": "ipython",
    "version": 3
   },
   "file_extension": ".py",
   "mimetype": "text/x-python",
   "name": "python",
   "nbconvert_exporter": "python",
   "pygments_lexer": "ipython3",
   "version": "3.9.16"
  }
 },
 "nbformat": 4,
 "nbformat_minor": 5
}
