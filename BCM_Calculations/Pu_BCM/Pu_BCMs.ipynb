{
 "cells": [
  {
   "cell_type": "markdown",
   "id": "9ca1eafd",
   "metadata": {},
   "source": [
    "# Bare critcal masses of Plutonium\n",
    "## Various compositions\n",
    "Hitoshi Cullinan 06 NOV 2022"
   ]
  },
  {
   "cell_type": "code",
   "execution_count": 1,
   "id": "349d8843",
   "metadata": {},
   "outputs": [],
   "source": [
    "import openmc\n",
    "import openmc.model\n",
    "import numpy as np\n",
    "from math import pi\n",
    "import matplotlib.pyplot as plt\n",
    "%matplotlib inline\n",
    "import xml.etree.ElementTree as et"
   ]
  },
  {
   "cell_type": "markdown",
   "id": "8b18b950",
   "metadata": {},
   "source": [
    "## Define Materials of interest"
   ]
  },
  {
   "cell_type": "code",
   "execution_count": 2,
   "id": "5ca3923f",
   "metadata": {},
   "outputs": [],
   "source": [
    "# DOE 3013 Weapons Grade Plutonium 5.9% Pu-240\n",
    "# U.S. Average taken from PNNL Material compendium\n",
    "WGPuden = 19.840000 # density (g/cc) \n",
    "WGPu = openmc.Material(name='WGPu')\n",
    "WGPu.set_density('g/cc',WGPuden)\n",
    "WGPu.add_nuclide('Pu238',0.000502,'ao')\n",
    "WGPu.add_nuclide('Pu239',0.935269,'ao')\n",
    "WGPu.add_nuclide('Pu240',0.059767,'ao')\n",
    "WGPu.add_nuclide('Pu241',0.003968,'ao')\n",
    "WGPu.add_nuclide('Pu242',0.000494,'ao')\n",
    "\n",
    "# Fuel Grade Plutonium 11.9% Pu-240\n",
    "FGPuden = 19.840000\n",
    "FGPu = openmc.Material(name='FGPu')\n",
    "FGPu.set_density('g/cc',FGPuden)\n",
    "FGPu.add_nuclide('Pu238',0.001000,'ao')\n",
    "FGPu.add_nuclide('Pu239',0.861564,'ao')\n",
    "FGPu.add_nuclide('Pu240',0.119578,'ao')\n",
    "FGPu.add_nuclide('Pu241',0.015877,'ao')\n",
    "FGPu.add_nuclide('Pu242',0.001976,'ao')\n",
    "\n",
    "# Power grade Plutonium 21.7 % Pu-240\n",
    "PGPuden = 19.840000\n",
    "PGPu = openmc.Material(name='PGPu')\n",
    "PGPu.set_density('g/cc',FGPuden)\n",
    "PGPu.add_nuclide('Pu238',0.009965,'ao')\n",
    "PGPu.add_nuclide('Pu239',0.625153,'ao')\n",
    "PGPu.add_nuclide('Pu240',0.217396,'ao')\n",
    "PGPu.add_nuclide('Pu241',0.118086,'ao')\n",
    "PGPu.add_nuclide('Pu242',0.029399,'ao')"
   ]
  },
  {
   "cell_type": "markdown",
   "id": "23685729",
   "metadata": {},
   "source": [
    "## Create Function for  radius search\n",
    "make sphere a fuction of radius (and material ?)"
   ]
  },
  {
   "cell_type": "code",
   "execution_count": 3,
   "id": "f208675e",
   "metadata": {},
   "outputs": [],
   "source": [
    "def build_model(radius, fuel):\n",
    "    \n",
    "    \n",
    "    materials = openmc.Materials([fuel])\n",
    "    \n",
    "    # create sphere with radius parameter\n",
    "    sphere_radius = openmc.Sphere(x0=0,y0=0,z0=0,r=radius, boundary_type='vacuum', name='BCM')\n",
    "    \n",
    "    # create core cell\n",
    "    core_cell = openmc.Cell(name='Bare Critical Sphere')\n",
    "    core_cell.fill = fuel\n",
    "    core_cell.region = -sphere_radius\n",
    "    \n",
    "    # create universe geometry\n",
    "    root_universe = openmc.Universe(name='root universe')\n",
    "    root_universe.add_cells([core_cell])\n",
    "    \n",
    "    geometry = openmc.Geometry(root_universe)\n",
    "    # define criticality settings\n",
    "    settings = openmc.Settings()\n",
    "    settings.run_mode = 'eigenvalue' # keff calculation\n",
    "    settings.particles = 5000 # particles per batch (mo betta)\n",
    "    settings.batches = 250 # number of batches\n",
    "    settings.inactive = 50 # inactive batches\n",
    "    \n",
    "    settings.output = {'tallies': False}\n",
    "    \n",
    "    model = openmc.model.Model(geometry,materials,settings)\n",
    "    \n",
    "    return model"
   ]
  },
  {
   "cell_type": "markdown",
   "id": "5dc0ad7b",
   "metadata": {},
   "source": [
    "### Conduct Radius Search of "
   ]
  },
  {
   "cell_type": "code",
   "execution_count": 4,
   "id": "004e45ea",
   "metadata": {
    "scrolled": true
   },
   "outputs": [
    {
     "name": "stdout",
     "output_type": "stream",
     "text": [
      "Iteration: 1; Guess of 1.00e+00 produced a keff of 0.21842 +/- 0.00016\n",
      "Iteration: 2; Guess of 5.00e+01 produced a keff of 2.82921 +/- 0.00074\n",
      "Iteration: 3; Guess of 2.55e+01 produced a keff of 2.54875 +/- 0.00106\n",
      "Iteration: 4; Guess of 1.32e+01 produced a keff of 1.98957 +/- 0.00114\n",
      "Iteration: 5; Guess of 7.12e+00 produced a keff of 1.33133 +/- 0.00083\n",
      "Iteration: 6; Guess of 4.06e+00 produced a keff of 0.83080 +/- 0.00052\n",
      "Iteration: 7; Guess of 5.59e+00 produced a keff of 1.09568 +/- 0.00066\n",
      "Iteration: 8; Guess of 4.83e+00 produced a keff of 0.96727 +/- 0.00061\n",
      "Iteration: 9; Guess of 5.21e+00 produced a keff of 1.03406 +/- 0.00063\n",
      "Iteration: 10; Guess of 5.02e+00 produced a keff of 1.00018 +/- 0.00064\n",
      "Iteration: 11; Guess of 4.92e+00 produced a keff of 0.98375 +/- 0.00065\n",
      "Iteration: 12; Guess of 4.97e+00 produced a keff of 0.99151 +/- 0.00058\n",
      "Iteration: 13; Guess of 5.00e+00 produced a keff of 0.99580 +/- 0.00065\n",
      "Iteration: 14; Guess of 5.01e+00 produced a keff of 0.99857 +/- 0.00071\n",
      "Iteration: 15; Guess of 5.01e+00 produced a keff of 1.00100 +/- 0.00062\n",
      "Iteration: 16; Guess of 5.01e+00 produced a keff of 0.99886 +/- 0.00061\n",
      "Iteration: 17; Guess of 5.01e+00 produced a keff of 0.99936 +/- 0.00067\n",
      "Iteration: 18; Guess of 5.01e+00 produced a keff of 0.99949 +/- 0.00071\n",
      "Iteration: 19; Guess of 5.01e+00 produced a keff of 0.99947 +/- 0.00066\n"
     ]
    }
   ],
   "source": [
    "crit_r, guesses, keffs = openmc.search_for_keff(build_model, bracket=[1,50],model_args={'fuel':WGPu},\n",
    "                                                tol=1e-4, print_iterations=True,\n",
    "                                               run_args={'output':False})"
   ]
  },
  {
   "cell_type": "code",
   "execution_count": 5,
   "id": "211d1131",
   "metadata": {
    "scrolled": true
   },
   "outputs": [
    {
     "name": "stdout",
     "output_type": "stream",
     "text": [
      "Weapons Grade Plutonium\n",
      "The bare critical sphere radius is  5.0132 cm.\n",
      "The bare critical mass is  10.471 kg.\n",
      "10.470541041910828 \n",
      "\n"
     ]
    }
   ],
   "source": [
    "# print results and collect data\n",
    "print('Weapons Grade Plutonium')\n",
    "print('The bare critical sphere radius is %7.4f cm.' % crit_r)\n",
    "crit_v = 4/3*pi*crit_r**3 # volume of critical sphere (cc)\n",
    "\n",
    "BCM = crit_v * WGPuden /1000 # mass of critical radius (kg)\n",
    "print('The bare critical mass is %7.3f kg.' % BCM)\n",
    "\n",
    "BCMs = np.array(BCM)\n",
    "print(BCMs,\n",
    "      '\\n')"
   ]
  },
  {
   "cell_type": "code",
   "execution_count": 6,
   "id": "f3d64816",
   "metadata": {},
   "outputs": [
    {
     "name": "stdout",
     "output_type": "stream",
     "text": [
      "Iteration: 1; Guess of 1.00e+00 produced a keff of 0.21510 +/- 0.00016\n",
      "Iteration: 2; Guess of 5.00e+01 produced a keff of 2.81164 +/- 0.00079\n",
      "Iteration: 3; Guess of 2.55e+01 produced a keff of 2.52460 +/- 0.00109\n",
      "Iteration: 4; Guess of 1.32e+01 produced a keff of 1.96821 +/- 0.00126\n",
      "Iteration: 5; Guess of 7.12e+00 produced a keff of 1.31085 +/- 0.00084\n",
      "Iteration: 6; Guess of 4.06e+00 produced a keff of 0.81886 +/- 0.00054\n",
      "Iteration: 7; Guess of 5.59e+00 produced a keff of 1.08035 +/- 0.00071\n",
      "Iteration: 8; Guess of 4.83e+00 produced a keff of 0.95167 +/- 0.00062\n",
      "Iteration: 9; Guess of 5.21e+00 produced a keff of 1.01565 +/- 0.00065\n",
      "Iteration: 10; Guess of 5.02e+00 produced a keff of 0.98493 +/- 0.00059\n",
      "Iteration: 11; Guess of 5.12e+00 produced a keff of 0.99982 +/- 0.00068\n",
      "Iteration: 12; Guess of 5.16e+00 produced a keff of 1.00914 +/- 0.00063\n",
      "Iteration: 13; Guess of 5.14e+00 produced a keff of 1.00489 +/- 0.00065\n",
      "Iteration: 14; Guess of 5.13e+00 produced a keff of 1.00260 +/- 0.00061\n",
      "Iteration: 15; Guess of 5.12e+00 produced a keff of 1.00185 +/- 0.00069\n",
      "Iteration: 16; Guess of 5.12e+00 produced a keff of 1.00144 +/- 0.00067\n",
      "Iteration: 17; Guess of 5.12e+00 produced a keff of 1.00111 +/- 0.00066\n",
      "Iteration: 18; Guess of 5.12e+00 produced a keff of 1.00278 +/- 0.00065\n",
      "Iteration: 19; Guess of 5.12e+00 produced a keff of 1.00110 +/- 0.00065\n",
      "Fuel Grade Plutonium\n",
      "The bare critical sphere radius is  5.1156 cm.\n",
      "The bare critical mass is  11.126 kg.\n",
      "[10.47054104 11.12556577]\n"
     ]
    }
   ],
   "source": [
    "crit_r, guesses, keffs = openmc.search_for_keff(build_model, bracket=[1,50],\n",
    "                                                model_args={'fuel':FGPu},\n",
    "                                                tol=1e-4, print_iterations=True,\n",
    "                                               run_args={'output':False})\n",
    "\n",
    "print('Fuel Grade Plutonium')\n",
    "print('The bare critical sphere radius is %7.4f cm.' % crit_r)\n",
    "crit_v = 4/3*pi*crit_r**3 # volume of critical sphere (cc)\n",
    "\n",
    "BCM = crit_v * FGPuden /1000 # mass of critical radius (kg)\n",
    "print('The bare critical mass is %7.3f kg.' % BCM)\n",
    "\n",
    "BCMs = np.append(BCMs,[BCM])\n",
    "print(BCMs)"
   ]
  },
  {
   "cell_type": "code",
   "execution_count": 7,
   "id": "99f38417",
   "metadata": {},
   "outputs": [
    {
     "name": "stdout",
     "output_type": "stream",
     "text": [
      "Iteration: 1; Guess of 1.00e+00 produced a keff of 0.20534 +/- 0.00015\n",
      "Iteration: 2; Guess of 5.00e+01 produced a keff of 2.76081 +/- 0.00079\n",
      "Iteration: 3; Guess of 2.55e+01 produced a keff of 2.47278 +/- 0.00109\n",
      "Iteration: 4; Guess of 1.32e+01 produced a keff of 1.91078 +/- 0.00105\n",
      "Iteration: 5; Guess of 7.12e+00 produced a keff of 1.26229 +/- 0.00077\n",
      "Iteration: 6; Guess of 4.06e+00 produced a keff of 0.78334 +/- 0.00048\n",
      "Iteration: 7; Guess of 5.59e+00 produced a keff of 1.03621 +/- 0.00065\n",
      "Iteration: 8; Guess of 4.83e+00 produced a keff of 0.91247 +/- 0.00064\n",
      "Iteration: 9; Guess of 5.21e+00 produced a keff of 0.97609 +/- 0.00067\n",
      "Iteration: 10; Guess of 5.40e+00 produced a keff of 1.00461 +/- 0.00064\n",
      "Iteration: 11; Guess of 5.31e+00 produced a keff of 0.98978 +/- 0.00062\n",
      "Iteration: 12; Guess of 5.35e+00 produced a keff of 0.99873 +/- 0.00065\n",
      "Iteration: 13; Guess of 5.38e+00 produced a keff of 1.00220 +/- 0.00064\n",
      "Iteration: 14; Guess of 5.37e+00 produced a keff of 1.00054 +/- 0.00065\n",
      "Iteration: 15; Guess of 5.36e+00 produced a keff of 0.99751 +/- 0.00062\n",
      "Iteration: 16; Guess of 5.36e+00 produced a keff of 0.99826 +/- 0.00062\n",
      "Iteration: 17; Guess of 5.36e+00 produced a keff of 0.99960 +/- 0.00064\n",
      "Iteration: 18; Guess of 5.37e+00 produced a keff of 0.99945 +/- 0.00065\n",
      "Iteration: 19; Guess of 5.37e+00 produced a keff of 0.99932 +/- 0.00067\n",
      "Power Grade Plutonium\n",
      "The bare critical sphere radius is  5.3661 cm.\n",
      "The bare critical mass is  12.841 kg.\n",
      "[10.47054104 11.12556577 12.84109346]\n"
     ]
    }
   ],
   "source": [
    "crit_r, guesses, keffs = openmc.search_for_keff(build_model, bracket=[1,50],\n",
    "                                                model_args={'fuel':PGPu},\n",
    "                                                tol=1e-4, print_iterations=True,\n",
    "                                               run_args={'output':False})\n",
    "\n",
    "print('Power Grade Plutonium')\n",
    "print('The bare critical sphere radius is %7.4f cm.' % crit_r)\n",
    "crit_v = 4/3*pi*crit_r**3 # volume of critical sphere (cc)\n",
    "\n",
    "BCM = crit_v * PGPuden /1000 # mass of critical radius (kg)\n",
    "print('The bare critical mass is %7.3f kg.' % BCM)\n",
    "\n",
    "BCMs = np.append(BCMs,[BCM])\n",
    "print(BCMs)"
   ]
  },
  {
   "cell_type": "code",
   "execution_count": null,
   "id": "3e4e8f07",
   "metadata": {},
   "outputs": [],
   "source": []
  }
 ],
 "metadata": {
  "kernelspec": {
   "display_name": "Python 3 (ipykernel)",
   "language": "python",
   "name": "python3"
  },
  "language_info": {
   "codemirror_mode": {
    "name": "ipython",
    "version": 3
   },
   "file_extension": ".py",
   "mimetype": "text/x-python",
   "name": "python",
   "nbconvert_exporter": "python",
   "pygments_lexer": "ipython3",
   "version": "3.10.6"
  }
 },
 "nbformat": 4,
 "nbformat_minor": 5
}
