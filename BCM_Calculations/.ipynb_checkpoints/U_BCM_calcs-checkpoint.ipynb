{
 "cells": [
  {
   "cell_type": "markdown",
   "id": "6df967f3",
   "metadata": {},
   "source": [
    "# Bare critical masses of Uranium\n",
    "## Various approximations of composition\n",
    "Hitoshi Cullinan 06 NOV 2022"
   ]
  },
  {
   "cell_type": "code",
   "execution_count": 1,
   "id": "84e35755",
   "metadata": {},
   "outputs": [],
   "source": [
    "import openmc\n",
    "import openmc.model\n",
    "import numpy as np\n",
    "from math import pi\n",
    "import matplotlib.pyplot as plt\n",
    "%matplotlib inline"
   ]
  },
  {
   "cell_type": "markdown",
   "id": "0b2a776f",
   "metadata": {},
   "source": [
    "## Define Materials of interest"
   ]
  },
  {
   "cell_type": "code",
   "execution_count": 23,
   "id": "332b6e09",
   "metadata": {},
   "outputs": [
    {
     "name": "stderr",
     "output_type": "stream",
     "text": [
      "/home/m231326/anaconda3/envs/omc/lib/python3.10/site-packages/openmc/material.py:640: UserWarning: A uranium enrichment of 93.155 was given for Material ID=\"20\". OpenMC assumes the U234/U235 mass ratio is constant at 0.008, which is only valid at low enrichments. Consider setting the isotopic composition manually for enrichments over 5%.\n",
      "  warnings.warn(msg)\n",
      "/home/m231326/anaconda3/envs/omc/lib/python3.10/site-packages/openmc/material.py:640: UserWarning: A uranium enrichment of 19.5875 was given for Material ID=\"25\". OpenMC assumes the U234/U235 mass ratio is constant at 0.008, which is only valid at low enrichments. Consider setting the isotopic composition manually for enrichments over 5%.\n",
      "  warnings.warn(msg)\n"
     ]
    }
   ],
   "source": [
    "# Highly enriched uranium 93.15% U-235\n",
    "# U.S. Average taken from PNNL Material compendium\n",
    "HEUden = 18.724760\n",
    "HEU = openmc.Material(name=\"HEU\")\n",
    "HEU.set_density('g/cc', 18.724760)\n",
    "HEU.add_nuclide('U234', 0.009849, 'ao')\n",
    "HEU.add_nuclide('U235', 0.931550, 'ao')\n",
    "HEU.add_nuclide('U236', 0.004500, 'ao')\n",
    "HEU.add_nuclide('U238', 0.054150, 'ao')\n",
    "\n",
    "# HEU 234/236 approximation\n",
    "# approximation guessing the 234/236 content based on 235 enrichment\n",
    "HEU2426den = 18.724760\n",
    "HEU2426 = openmc.Material(name=\"HEU 24/26\")\n",
    "HEU2426.set_density('g/cc', 18.724760)\n",
    "HEU2426.add_nuclide('U234', 0.009849, 'ao')\n",
    "HEU2426.add_nuclide('U235', 0.931550, 'ao')\n",
    "HEU2426.add_nuclide('U236', 0.004500, 'ao')\n",
    "HEU2426.add_nuclide('U238', 0.054150, 'ao')\n",
    "\n",
    "# HEU 234 only approximation\n",
    "# approximation guessing the 234 content based on 235 enrichment\n",
    "# 236 neglected and added to 238 total\n",
    "HEU24den = 18.724760\n",
    "HEU24 = openmc.Material(name=\"HEU 24\")\n",
    "HEU24.set_density('g/cc', 18.724760)\n",
    "HEU24.add_nuclide('U234', 0.009849, 'ao')\n",
    "HEU24.add_nuclide('U235', 0.931550, 'ao')\n",
    "HEU24.add_nuclide('U238', 0.058650, 'ao')\n",
    "\n",
    "# HEU di-isotopic rough approx\n",
    "# approximation of compostition using only U-235 and U-238\n",
    "diHEUden = 18.724760\n",
    "diHEU = openmc.Material(name=\"diHEU\")\n",
    "diHEU.set_density('g/cc', 18.724760)\n",
    "diHEU.add_nuclide('U235', 0.931550, 'ao')\n",
    "diHEU.add_nuclide('U238', 0.068450, 'ao')\n",
    "\n",
    "# HEU openmc enrichment tool approximation\n",
    "# approximation of compostition using openmc enrichment tool\n",
    "omcHEUden = 18.724760\n",
    "omcHEU = openmc.Material(name=\"omcHEU\")\n",
    "omcHEU.set_density('g/cc', 18.724760)\n",
    "omcHEU.add_element('U',1, enrichment=93.155)\n",
    "\n",
    "# High Assay Low Enriched Uranoum\n",
    "# weight percents taken from INL UO2 HALEU paper\n",
    "HALEUden = 18.944386 # approximated with LEU density\n",
    "HALEU = openmc.Material(name=\"HALEU\")\n",
    "HALEU.set_density('g/cc', HALEUden)\n",
    "HALEU.add_nuclide('U234', 0.0017, 'wo')\n",
    "HALEU.add_nuclide('U235', 0.1939, 'wo')\n",
    "HALEU.add_nuclide('U236', 0.0058, 'wo')\n",
    "HALEU.add_nuclide('U238', 0.7986, 'wo')\n",
    "\n",
    "# HEU 234/236 approximation\n",
    "# approximation guessing the 234/236 content based on 235 enrichment\n",
    "HALEU2426den = 18.944386\n",
    "enrich = 0.195875\n",
    "HALEU2426 = openmc.Material(name=\"HALEU 24/26\")\n",
    "HALEU2426.set_density('g/cc', HEU2426den)\n",
    "HALEU2426.add_nuclide('U234', enrich*0.009, 'ao')\n",
    "HALEU2426.add_nuclide('U235', enrich, 'ao')\n",
    "HALEU2426.add_nuclide('U236', enrich*0.0045, 'ao')\n",
    "HALEU2426.add_nuclide('U238', enrich*4.0917, 'ao')\n",
    "\n",
    "# HEU 234 only approximation\n",
    "# approximation guessing the 234 content based on 235 enrichment\n",
    "# 236 neglected and added to 238 total\n",
    "HALEU24den = 18.944386\n",
    "HALEU24 = openmc.Material(name=\"HALEU 24\")\n",
    "HALEU24.set_density('g/cc', HALEU24den)\n",
    "HALEU24.add_nuclide('U234', enrich*0.009, 'ao')\n",
    "HALEU24.add_nuclide('U235', enrich, 'ao')\n",
    "HALEU24.add_nuclide('U238', enrich*4.0962, 'ao')\n",
    "\n",
    "# HEU di-isotopic rough approx\n",
    "# approximation of compostition using only U-235 and U-238\n",
    "diHALEUden = 18.944386\n",
    "diHALEU = openmc.Material(name=\"diHALEU\")\n",
    "diHALEU.set_density('g/cc', diHALEUden)\n",
    "diHALEU.add_nuclide('U235', enrich, 'ao')\n",
    "diHALEU.add_nuclide('U238', 1-enrich, 'ao')\n",
    "\n",
    "# HEU openmc enrichment tool approximation\n",
    "# approximation of compostition using openmc enrichment tool\n",
    "omcHALEUden = 18.944386\n",
    "omcHALEU = openmc.Material(name=\"omcHALEU\")\n",
    "omcHALEU.set_density('g/cc', omcHALEUden)\n",
    "omcHALEU.add_element('U',1, enrichment=enrich*100)\n",
    "\n",
    "\n"
   ]
  },
  {
   "cell_type": "markdown",
   "id": "69ebb185",
   "metadata": {},
   "source": [
    "## Create Function for  radius search\n",
    "make sphere a fuction of radius (and material ?)"
   ]
  },
  {
   "cell_type": "code",
   "execution_count": 3,
   "id": "b37eea72",
   "metadata": {},
   "outputs": [],
   "source": [
    "def build_model(radius, fuel):\n",
    "    \n",
    "    \n",
    "    materials = openmc.Materials([fuel])\n",
    "    \n",
    "    # create sphere with radius parameter\n",
    "    sphere_radius = openmc.Sphere(x0=0,y0=0,z0=0,r=radius, boundary_type='vacuum', name='BCM')\n",
    "    \n",
    "    # create core cell\n",
    "    core_cell = openmc.Cell(name='Bare Critical Sphere')\n",
    "    core_cell.fill = fuel\n",
    "    core_cell.region = -sphere_radius\n",
    "    \n",
    "    # create universe geometry\n",
    "    root_universe = openmc.Universe(name='root universe')\n",
    "    root_universe.add_cells([core_cell])\n",
    "    \n",
    "    geometry = openmc.Geometry(root_universe)\n",
    "    # define criticality settings\n",
    "    settings = openmc.Settings()\n",
    "    settings.run_mode = 'eigenvalue' # keff calculation\n",
    "    settings.particles = 5000 # particles per batch (mo betta)\n",
    "    settings.batches = 250 # number of batches\n",
    "    settings.inactive = 50 # inactive batches\n",
    "    \n",
    "    settings.output = {'tallies': False}\n",
    "    \n",
    "    model = openmc.model.Model(geometry,materials,settings)\n",
    "    \n",
    "    return model"
   ]
  },
  {
   "cell_type": "markdown",
   "id": "1c07699f",
   "metadata": {},
   "source": [
    "### Conduct Radius Search of "
   ]
  },
  {
   "cell_type": "code",
   "execution_count": 4,
   "id": "a3435e09",
   "metadata": {
    "scrolled": true
   },
   "outputs": [
    {
     "name": "stdout",
     "output_type": "stream",
     "text": [
      "Iteration: 1; Guess of 1.00e+00 produced a keff of 0.11862 +/- 0.00009\n",
      "Iteration: 2; Guess of 2.00e+01 produced a keff of 1.69311 +/- 0.00094\n",
      "Iteration: 3; Guess of 1.05e+01 produced a keff of 1.15371 +/- 0.00073\n",
      "Iteration: 4; Guess of 5.75e+00 produced a keff of 0.68532 +/- 0.00048\n",
      "Iteration: 5; Guess of 8.12e+00 produced a keff of 0.93849 +/- 0.00060\n",
      "Iteration: 6; Guess of 9.31e+00 produced a keff of 1.04954 +/- 0.00070\n",
      "Iteration: 7; Guess of 8.72e+00 produced a keff of 0.99355 +/- 0.00070\n",
      "Iteration: 8; Guess of 9.02e+00 produced a keff of 1.02300 +/- 0.00066\n",
      "Iteration: 9; Guess of 8.87e+00 produced a keff of 1.00738 +/- 0.00064\n",
      "Iteration: 10; Guess of 8.79e+00 produced a keff of 1.00071 +/- 0.00060\n",
      "Iteration: 11; Guess of 8.76e+00 produced a keff of 0.99818 +/- 0.00067\n",
      "Iteration: 12; Guess of 8.77e+00 produced a keff of 0.99969 +/- 0.00070\n",
      "Iteration: 13; Guess of 8.78e+00 produced a keff of 1.00049 +/- 0.00072\n",
      "Iteration: 14; Guess of 8.78e+00 produced a keff of 0.99993 +/- 0.00065\n",
      "Iteration: 15; Guess of 8.78e+00 produced a keff of 0.99980 +/- 0.00067\n",
      "Iteration: 16; Guess of 8.78e+00 produced a keff of 0.99924 +/- 0.00077\n",
      "Iteration: 17; Guess of 8.78e+00 produced a keff of 1.00148 +/- 0.00071\n",
      "PNNL HEU\n",
      "The bare critical sphere radius is  8.7831 cm.\n",
      "The bare critical mass is  53.143 kg.\n",
      "53.1434895740574 \n",
      "\n"
     ]
    }
   ],
   "source": [
    "crit_r, guesses, keffs = openmc.search_for_keff(build_model, bracket=[1,20],model_args={'fuel':HEU},\n",
    "                                                tol=1e-4, print_iterations=True,\n",
    "                                               run_args={'output':False})\n",
    "# print results and collect data\n",
    "print('PNNL HEU')\n",
    "print('The bare critical sphere radius is %7.4f cm.' % crit_r)\n",
    "crit_v = 4/3*pi*crit_r**3 # volume of critical sphere (cc)\n",
    "\n",
    "BCM = crit_v * HEUden /1000 # mass of critical radius (kg)\n",
    "print('The bare critical mass is %7.3f kg.' % BCM)\n",
    "\n",
    "BCMs = np.array(BCM)\n",
    "print(BCMs,\n",
    "      '\\n')"
   ]
  },
  {
   "cell_type": "code",
   "execution_count": 5,
   "id": "cf420cd6",
   "metadata": {},
   "outputs": [
    {
     "name": "stdout",
     "output_type": "stream",
     "text": [
      "Iteration: 1; Guess of 1.00e+00 produced a keff of 0.11849 +/- 0.00009\n",
      "Iteration: 2; Guess of 2.00e+01 produced a keff of 1.69631 +/- 0.00091\n",
      "Iteration: 3; Guess of 1.05e+01 produced a keff of 1.15228 +/- 0.00077\n",
      "Iteration: 4; Guess of 5.75e+00 produced a keff of 0.68433 +/- 0.00051\n",
      "Iteration: 5; Guess of 8.12e+00 produced a keff of 0.93618 +/- 0.00065\n",
      "Iteration: 6; Guess of 9.31e+00 produced a keff of 1.04814 +/- 0.00069\n",
      "Iteration: 7; Guess of 8.72e+00 produced a keff of 0.99432 +/- 0.00063\n",
      "Iteration: 8; Guess of 9.02e+00 produced a keff of 1.02121 +/- 0.00072\n",
      "Iteration: 9; Guess of 8.87e+00 produced a keff of 1.00736 +/- 0.00069\n",
      "Iteration: 10; Guess of 8.79e+00 produced a keff of 1.00173 +/- 0.00065\n",
      "Iteration: 11; Guess of 8.76e+00 produced a keff of 0.99704 +/- 0.00071\n",
      "Iteration: 12; Guess of 8.77e+00 produced a keff of 0.99886 +/- 0.00070\n",
      "Iteration: 13; Guess of 8.78e+00 produced a keff of 1.00003 +/- 0.00066\n",
      "Iteration: 14; Guess of 8.78e+00 produced a keff of 1.00011 +/- 0.00065\n",
      "Iteration: 15; Guess of 8.78e+00 produced a keff of 0.99837 +/- 0.00072\n",
      "Iteration: 16; Guess of 8.78e+00 produced a keff of 1.00056 +/- 0.00066\n",
      "Iteration: 17; Guess of 8.78e+00 produced a keff of 0.99939 +/- 0.00073\n",
      "HEU no 236 approximation\n",
      "The bare critical sphere radius is  8.7773 cm.\n",
      "The bare critical mass is  53.038 kg.\n",
      "[53.14348957 53.03830796]\n"
     ]
    }
   ],
   "source": [
    "crit_r, guesses, keffs = openmc.search_for_keff(build_model, bracket=[1,20],\n",
    "                                                model_args={'fuel':HEU24},\n",
    "                                                tol=1e-4, print_iterations=True,\n",
    "                                               run_args={'output':False})\n",
    "\n",
    "print('HEU no 236 approximation')\n",
    "print('The bare critical sphere radius is %7.4f cm.' % crit_r)\n",
    "crit_v = 4/3*pi*crit_r**3 # volume of critical sphere (cc)\n",
    "\n",
    "BCM = crit_v * HEUden /1000 # mass of critical radius (kg)\n",
    "print('The bare critical mass is %7.3f kg.' % BCM)\n",
    "\n",
    "BCMs = np.append(BCMs,[BCM])\n",
    "print(BCMs)"
   ]
  },
  {
   "cell_type": "code",
   "execution_count": 6,
   "id": "d3fb356c",
   "metadata": {
    "scrolled": true
   },
   "outputs": [
    {
     "name": "stdout",
     "output_type": "stream",
     "text": [
      "Iteration: 1; Guess of 1.00e+00 produced a keff of 0.11791 +/- 0.00009\n",
      "Iteration: 2; Guess of 5.00e+01 produced a keff of 2.12174 +/- 0.00071\n",
      "Iteration: 3; Guess of 2.55e+01 produced a keff of 1.85058 +/- 0.00085\n",
      "Iteration: 4; Guess of 1.32e+01 produced a keff of 1.35328 +/- 0.00086\n",
      "Iteration: 5; Guess of 7.12e+00 produced a keff of 0.83133 +/- 0.00056\n",
      "Iteration: 6; Guess of 1.02e+01 produced a keff of 1.12153 +/- 0.00074\n",
      "Iteration: 7; Guess of 8.66e+00 produced a keff of 0.98460 +/- 0.00070\n",
      "Iteration: 8; Guess of 9.42e+00 produced a keff of 1.05493 +/- 0.00070\n",
      "Iteration: 9; Guess of 9.04e+00 produced a keff of 1.01967 +/- 0.00075\n",
      "Iteration: 10; Guess of 8.85e+00 produced a keff of 1.00145 +/- 0.00065\n",
      "Iteration: 11; Guess of 8.75e+00 produced a keff of 0.99399 +/- 0.00068\n",
      "Iteration: 12; Guess of 8.80e+00 produced a keff of 0.99805 +/- 0.00069\n",
      "Iteration: 13; Guess of 8.82e+00 produced a keff of 0.99934 +/- 0.00070\n",
      "Iteration: 14; Guess of 8.84e+00 produced a keff of 1.00089 +/- 0.00075\n",
      "Iteration: 15; Guess of 8.83e+00 produced a keff of 0.99978 +/- 0.00071\n",
      "Iteration: 16; Guess of 8.83e+00 produced a keff of 1.00094 +/- 0.00066\n",
      "Iteration: 17; Guess of 8.83e+00 produced a keff of 1.00038 +/- 0.00073\n",
      "Iteration: 18; Guess of 8.83e+00 produced a keff of 0.99979 +/- 0.00067\n",
      "Di-isotopic HEU\n",
      "The bare critical sphere radius is  8.8305 cm.\n",
      "The bare critical mass is  54.008 kg.\n",
      "[53.14348957 53.03830796 54.00758929]\n"
     ]
    }
   ],
   "source": [
    "crit_r, guesses, keffs = openmc.search_for_keff(build_model, bracket=[1,50],\n",
    "                                                model_args={'fuel':diHEU},\n",
    "                                                tol=1e-4, print_iterations=True,\n",
    "                                               run_args={'output':False})\n",
    "\n",
    "print('Di-isotopic HEU')\n",
    "print('The bare critical sphere radius is %7.4f cm.' % crit_r)\n",
    "crit_v = 4/3*pi*crit_r**3 # volume of critical sphere (cc)\n",
    "\n",
    "BCM = crit_v * HEUden /1000 # mass of critical radius (kg)\n",
    "print('The bare critical mass is %7.3f kg.' % BCM)\n",
    "\n",
    "BCMs = np.append(BCMs,[BCM])\n",
    "print(BCMs)"
   ]
  },
  {
   "cell_type": "code",
   "execution_count": 7,
   "id": "deaa4431",
   "metadata": {},
   "outputs": [
    {
     "name": "stdout",
     "output_type": "stream",
     "text": [
      "Iteration: 1; Guess of 1.00e+00 produced a keff of 0.11843 +/- 0.00008\n",
      "Iteration: 2; Guess of 5.00e+01 produced a keff of 2.12398 +/- 0.00074\n",
      "Iteration: 3; Guess of 2.55e+01 produced a keff of 1.85429 +/- 0.00084\n",
      "Iteration: 4; Guess of 1.32e+01 produced a keff of 1.35770 +/- 0.00068\n",
      "Iteration: 5; Guess of 7.12e+00 produced a keff of 0.83458 +/- 0.00059\n",
      "Iteration: 6; Guess of 1.02e+01 produced a keff of 1.12587 +/- 0.00078\n",
      "Iteration: 7; Guess of 8.66e+00 produced a keff of 0.98785 +/- 0.00063\n",
      "Iteration: 8; Guess of 9.42e+00 produced a keff of 1.05817 +/- 0.00068\n",
      "Iteration: 9; Guess of 9.04e+00 produced a keff of 1.02340 +/- 0.00074\n",
      "Iteration: 10; Guess of 8.85e+00 produced a keff of 1.00710 +/- 0.00073\n",
      "Iteration: 11; Guess of 8.75e+00 produced a keff of 0.99754 +/- 0.00071\n",
      "Iteration: 12; Guess of 8.80e+00 produced a keff of 1.00179 +/- 0.00058\n",
      "Iteration: 13; Guess of 8.78e+00 produced a keff of 0.99913 +/- 0.00074\n",
      "Iteration: 14; Guess of 8.79e+00 produced a keff of 1.00125 +/- 0.00069\n",
      "Iteration: 15; Guess of 8.78e+00 produced a keff of 1.00015 +/- 0.00066\n",
      "Iteration: 16; Guess of 8.78e+00 produced a keff of 0.99915 +/- 0.00068\n",
      "Iteration: 17; Guess of 8.78e+00 produced a keff of 0.99901 +/- 0.00058\n",
      "Iteration: 18; Guess of 8.78e+00 produced a keff of 0.99909 +/- 0.00066\n",
      "omc HEU Approximation\n",
      "The bare critical sphere radius is  8.7811 cm.\n",
      "The bare critical mass is  53.107 kg.\n",
      "[53.14348957 53.03830796 54.00758929 53.1072139 ]\n"
     ]
    }
   ],
   "source": [
    "crit_r, guesses, keffs = openmc.search_for_keff(build_model, bracket=[1,50],\n",
    "                                                model_args={'fuel':omcHEU},\n",
    "                                                tol=1e-4, print_iterations=True,\n",
    "                                               run_args={'output':False})\n",
    "\n",
    "print('omc HEU Approximation')\n",
    "print('The bare critical sphere radius is %7.4f cm.' % crit_r)\n",
    "crit_v = 4/3*pi*crit_r**3 # volume of critical sphere (cc)\n",
    "\n",
    "BCM = crit_v * HEUden /1000 # mass of critical radius (kg)\n",
    "print('The bare critical mass is %7.3f kg.' % BCM)\n",
    "\n",
    "BCMs = np.append(BCMs,[BCM])\n",
    "print(BCMs)"
   ]
  },
  {
   "cell_type": "markdown",
   "id": "388cb8f1",
   "metadata": {},
   "source": [
    "### Mass error\n",
    "in reference to PNNL HEU"
   ]
  },
  {
   "cell_type": "code",
   "execution_count": 21,
   "id": "f633fa35",
   "metadata": {},
   "outputs": [
    {
     "name": "stdout",
     "output_type": "stream",
     "text": [
      "Mass Error for the HEU24 approximation is -0.19792 percent\n",
      "Mass Error for the Di-isotopic approximation is 1.62597 percent\n",
      "Mass Error for the openmc enrichment approximation is -0.06826 percent\n"
     ]
    }
   ],
   "source": [
    "error = np.empty(4)\n",
    "error[0] = (BCMs[0]-BCMs[0])/BCMs[0]*100\n",
    "error[1] = (BCMs[1]-BCMs[0])/BCMs[0]*100\n",
    "error[2] = (BCMs[2]-BCMs[0])/BCMs[0]*100\n",
    "error[3] = (BCMs[3]-BCMs[0])/BCMs[0]*100\n",
    "print(\"Mass Error for the HEU24 approximation is %.5f percent\" %error[1])\n",
    "print(\"Mass Error for the Di-isotopic approximation is %.5f percent\" %error[2])\n",
    "print(\"Mass Error for the openmc enrichment approximation is %.5f percent\" %error[3])\n"
   ]
  },
  {
   "cell_type": "code",
   "execution_count": null,
   "id": "fe157273",
   "metadata": {},
   "outputs": [],
   "source": []
  }
 ],
 "metadata": {
  "kernelspec": {
   "display_name": "Python 3 (ipykernel)",
   "language": "python",
   "name": "python3"
  },
  "language_info": {
   "codemirror_mode": {
    "name": "ipython",
    "version": 3
   },
   "file_extension": ".py",
   "mimetype": "text/x-python",
   "name": "python",
   "nbconvert_exporter": "python",
   "pygments_lexer": "ipython3",
   "version": "3.10.6"
  }
 },
 "nbformat": 4,
 "nbformat_minor": 5
}
