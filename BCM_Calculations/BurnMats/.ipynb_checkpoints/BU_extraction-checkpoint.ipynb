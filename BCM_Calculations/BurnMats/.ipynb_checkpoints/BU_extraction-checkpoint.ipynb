{
 "cells": [
  {
   "cell_type": "markdown",
   "id": "0e6700d6",
   "metadata": {},
   "source": [
    "# Burnup with material extraction\n",
    "Burn materials and then extract the burned materials from results tally. First iteration 12 NOV 2022."
   ]
  },
  {
   "cell_type": "code",
   "execution_count": 1,
   "id": "be088371",
   "metadata": {},
   "outputs": [],
   "source": [
    "import openmc\n",
    "import openmc.deplete\n",
    "import matplotlib.pyplot as plt\n",
    "%matplotlib inline\n",
    "import numpy as np\n",
    "from math import pi\n",
    "import xml.etree.ElementTree as et"
   ]
  },
  {
   "cell_type": "markdown",
   "id": "470d3b27",
   "metadata": {},
   "source": [
    "## Create Materials"
   ]
  },
  {
   "cell_type": "code",
   "execution_count": 2,
   "id": "e598d5e9",
   "metadata": {},
   "outputs": [],
   "source": [
    "# fuel uranium dioxode (PNNL)\n",
    "fuel = openmc.Material(name='uo2')\n",
    "fuel.set_density('g/cc',10.96)\n",
    "fuel.add_nuclide('U234', 0.000090, 'ao')\n",
    "fuel.add_nuclide('U235', 0.010124, 'ao')\n",
    "fuel.add_nuclide('U236', 0.000046, 'ao')\n",
    "fuel.add_nuclide('U238', 0.323072, 'ao')\n",
    "fuel.add_element('O', 0.666667, 'ao')\n",
    "fuel.depletable = True\n",
    "\n",
    "clad = openmc.Material(name='Zirc4')\n",
    "clad.set_density('g/cc', 6.56)\n",
    "clad.add_element('O', 0.006790, 'ao')\n",
    "clad.add_element('Cr', 0.001741, 'ao')\n",
    "clad.add_element('Fe', 0.003242, 'ao')\n",
    "clad.add_element('Zr', 0.977549, 'ao')\n",
    "clad.add_element('Sn', 0.010677, 'ao')\n",
    "clad.depletable = True\n",
    "\n",
    "water = openmc.Material(name='h2o')\n",
    "water.set_density('g/cc', 0.712)\n",
    "water.add_element('H', 2)\n",
    "water.add_element('O', 1)\n",
    "water.add_s_alpha_beta('c_H_in_H2O')\n",
    "\n",
    "materials = openmc.Materials([fuel, clad, water])\n",
    "materials.export_to_xml()"
   ]
  },
  {
   "cell_type": "markdown",
   "id": "eb43c45e",
   "metadata": {},
   "source": [
    "## Create Geometry\n",
    "pincell geometry modeling internal PWR location"
   ]
  },
  {
   "cell_type": "code",
   "execution_count": 3,
   "id": "565d412c",
   "metadata": {},
   "outputs": [],
   "source": [
    "h_cell = 300; # height of pincell\n",
    "\n",
    "r_fuel = 0.42; # fuel radius\n",
    "r_pin = 0.45; # clad radius\n",
    "\n",
    "P_D = 1.4; # pitch to diameter ratio\n",
    "pitch = P_D*(2*r_pin);\n",
    "\n",
    "fuel_temp = 900; # representaive fuel temperature (K)\n",
    "mod_temp = 600; # moderator temp (K)\n",
    "\n",
    "# fuel cylinder\n",
    "fuel_cyl = openmc.model.RightCircularCylinder([0,0,-h_cell/2],h_cell,r_fuel);\n",
    "\n",
    "fuel.volume = np.pi*(r_fuel**2)*h_cell;\n",
    "\n",
    "# pin cylinder\n",
    "pin_cyl = openmc.model.RightCircularCylinder([0,0,-(h_cell+(r_pin-r_fuel))/2],h_cell+(r_pin-r_fuel)*2,r_pin);\n",
    "\n",
    "# pin cell container\n",
    "\n",
    "core_cell = openmc.model.RectangularParallelepiped(-pitch/2,pitch/2,\n",
    "                                                   -pitch/2,pitch/2,\n",
    "                                                   -(h_cell+100)/2,(h_cell+100)/2,\n",
    "                                                   boundary_type = \"reflective\");\n",
    "fuel_cell = openmc.Cell();\n",
    "fuel_cell.region = -fuel_cyl\n",
    "fuel_cell.fill = fuel;\n",
    "fuel_cell.temperature = fuel_temp;\n",
    "\n",
    "clad_cell = openmc.Cell();\n",
    "clad_cell.region = +fuel_cyl & -pin_cyl;\n",
    "clad_cell.fill = clad;\n",
    "\n",
    "mod_cell = openmc.Cell();\n",
    "mod_cell.region = +pin_cyl & - core_cell;\n",
    "mod_cell.fill = water;\n",
    "mod_cell.temperature = mod_temp;\n",
    "\n",
    "root_univ = openmc.Universe();\n",
    "root_univ.add_cells([fuel_cell,clad_cell,mod_cell]);\n",
    "\n",
    "geometry = openmc.Geometry();\n",
    "geometry.root_universe = root_univ;\n",
    "\n",
    "geometry.export_to_xml();"
   ]
  },
  {
   "cell_type": "markdown",
   "id": "068edf1c",
   "metadata": {},
   "source": [
    "## Create Criticality Settings"
   ]
  },
  {
   "cell_type": "code",
   "execution_count": 4,
   "id": "b009af74",
   "metadata": {},
   "outputs": [],
   "source": [
    "settings = openmc.Settings();\n",
    "settings.run_mode = 'eigenvalue';\n",
    "settings.particles = 20000;\n",
    "settings.batches = 250;\n",
    "settings.inactive = 50;\n",
    "\n",
    "box = openmc.stats.Box(lower_left = (-r_fuel,-r_fuel,-h_cell/2),\n",
    "                      upper_right = (r_fuel,r_fuel,h_cell/2),\n",
    "                      only_fissionable=True);\n",
    "src = openmc.Source(space=box);\n",
    "\n",
    "settings.source = src;\n",
    "settings.temperature['method']='interpolation';\n",
    "settings.export_to_xml();"
   ]
  },
  {
   "cell_type": "code",
   "execution_count": 5,
   "id": "ae792c33",
   "metadata": {},
   "outputs": [
    {
     "data": {
      "image/png": "[encoded data removed]",
      "text/plain": [
       "<Figure size 258.065x259.74 with 1 Axes>"
      ]
     },
     "metadata": {},
     "output_type": "display_data"
    }
   ],
   "source": [
    "# create color dictionary\n",
    "colors = {}\n",
    "colors[water]='blue';\n",
    "colors[fuel]='yellow';\n",
    "colors[clad]='gray';\n",
    "\n",
    "# plot pin cell universe to inspect geometry\n",
    "root_univ.plot(width=(pitch,pitch),color_by='material',colors=colors);"
   ]
  },
  {
   "cell_type": "markdown",
   "id": "f148d1b6",
   "metadata": {},
   "source": [
    "## Conduct Depletion"
   ]
  },
  {
   "cell_type": "code",
   "execution_count": 6,
   "id": "c149ccc5",
   "metadata": {},
   "outputs": [
    {
     "ename": "RuntimeError",
     "evalue": "Volume not specified for depletable material with ID=2.",
     "output_type": "error",
     "traceback": [
      "\u001b[0;31m---------------------------------------------------------------------------\u001b[0m",
      "\u001b[0;31mRuntimeError\u001b[0m                              Traceback (most recent call last)",
      "Cell \u001b[0;32mIn [6], line 2\u001b[0m\n\u001b[1;32m      1\u001b[0m model \u001b[38;5;241m=\u001b[39m openmc\u001b[38;5;241m.\u001b[39mmodel\u001b[38;5;241m.\u001b[39mModel(geometry,materials,settings)\n\u001b[0;32m----> 2\u001b[0m operator \u001b[38;5;241m=\u001b[39m \u001b[43mopenmc\u001b[49m\u001b[38;5;241;43m.\u001b[39;49m\u001b[43mdeplete\u001b[49m\u001b[38;5;241;43m.\u001b[39;49m\u001b[43mCoupledOperator\u001b[49m\u001b[43m(\u001b[49m\u001b[43mmodel\u001b[49m\u001b[43m,\u001b[49m\u001b[38;5;124;43m\"\u001b[39;49m\u001b[38;5;124;43mchain_endfb71_pwr.xml\u001b[39;49m\u001b[38;5;124;43m\"\u001b[39;49m\u001b[43m)\u001b[49m;\n\u001b[1;32m      4\u001b[0m \u001b[38;5;66;03m# typical PWR power density\u001b[39;00m\n\u001b[1;32m      5\u001b[0m power_density \u001b[38;5;241m=\u001b[39m [\u001b[38;5;241m30.5\u001b[39m,\u001b[38;5;241m30.5\u001b[39m,\u001b[38;5;241m30.5\u001b[39m,\u001b[38;5;241m30.5\u001b[39m,\u001b[38;5;241m30.5\u001b[39m,\n\u001b[1;32m      6\u001b[0m                 \u001b[38;5;241m30.5\u001b[39m,\u001b[38;5;241m30.5\u001b[39m,\u001b[38;5;241m30.5\u001b[39m,\u001b[38;5;241m30.5\u001b[39m,\u001b[38;5;241m30.5\u001b[39m,\n\u001b[1;32m      7\u001b[0m                 \u001b[38;5;241m0\u001b[39m,\u001b[38;5;241m0\u001b[39m,\u001b[38;5;241m0\u001b[39m,\u001b[38;5;241m0\u001b[39m,\u001b[38;5;241m0\u001b[39m]; \u001b[38;5;66;03m# power density W/gHM \u001b[39;00m\n",
      "File \u001b[0;32m~/anaconda3/envs/omc/lib/python3.10/site-packages/openmc/deplete/coupled_operator.py:266\u001b[0m, in \u001b[0;36mCoupledOperator.__init__\u001b[0;34m(self, model, chain_file, prev_results, diff_burnable_mats, normalization_mode, fission_q, dilute_initial, fission_yield_mode, fission_yield_opts, reaction_rate_mode, reaction_rate_opts, reduce_chain, reduce_chain_level)\u001b[0m\n\u001b[1;32m    257\u001b[0m     fission_yield_opts \u001b[38;5;241m=\u001b[39m {}\n\u001b[1;32m    258\u001b[0m helper_kwargs \u001b[38;5;241m=\u001b[39m {\n\u001b[1;32m    259\u001b[0m     \u001b[38;5;124m'\u001b[39m\u001b[38;5;124mreaction_rate_mode\u001b[39m\u001b[38;5;124m'\u001b[39m: reaction_rate_mode,\n\u001b[1;32m    260\u001b[0m     \u001b[38;5;124m'\u001b[39m\u001b[38;5;124mnormalization_mode\u001b[39m\u001b[38;5;124m'\u001b[39m: normalization_mode,\n\u001b[0;32m   (...)\u001b[0m\n\u001b[1;32m    263\u001b[0m     \u001b[38;5;124m'\u001b[39m\u001b[38;5;124mfission_yield_opts\u001b[39m\u001b[38;5;124m'\u001b[39m: fission_yield_opts\n\u001b[1;32m    264\u001b[0m }\n\u001b[0;32m--> 266\u001b[0m \u001b[38;5;28;43msuper\u001b[39;49m\u001b[43m(\u001b[49m\u001b[43m)\u001b[49m\u001b[38;5;241;43m.\u001b[39;49m\u001b[38;5;21;43m__init__\u001b[39;49m\u001b[43m(\u001b[49m\n\u001b[1;32m    267\u001b[0m \u001b[43m    \u001b[49m\u001b[43mmodel\u001b[49m\u001b[38;5;241;43m.\u001b[39;49m\u001b[43mmaterials\u001b[49m\u001b[43m,\u001b[49m\n\u001b[1;32m    268\u001b[0m \u001b[43m    \u001b[49m\u001b[43mcross_sections\u001b[49m\u001b[43m,\u001b[49m\n\u001b[1;32m    269\u001b[0m \u001b[43m    \u001b[49m\u001b[43mchain_file\u001b[49m\u001b[43m,\u001b[49m\n\u001b[1;32m    270\u001b[0m \u001b[43m    \u001b[49m\u001b[43mprev_results\u001b[49m\u001b[43m,\u001b[49m\n\u001b[1;32m    271\u001b[0m \u001b[43m    \u001b[49m\u001b[43mdiff_burnable_mats\u001b[49m\u001b[43m,\u001b[49m\n\u001b[1;32m    272\u001b[0m \u001b[43m    \u001b[49m\u001b[43mfission_q\u001b[49m\u001b[43m,\u001b[49m\n\u001b[1;32m    273\u001b[0m \u001b[43m    \u001b[49m\u001b[43mdilute_initial\u001b[49m\u001b[43m,\u001b[49m\n\u001b[1;32m    274\u001b[0m \u001b[43m    \u001b[49m\u001b[43mhelper_kwargs\u001b[49m\u001b[43m,\u001b[49m\n\u001b[1;32m    275\u001b[0m \u001b[43m    \u001b[49m\u001b[43mreduce_chain\u001b[49m\u001b[43m,\u001b[49m\n\u001b[1;32m    276\u001b[0m \u001b[43m    \u001b[49m\u001b[43mreduce_chain_level\u001b[49m\u001b[43m)\u001b[49m\n",
      "File \u001b[0;32m~/anaconda3/envs/omc/lib/python3.10/site-packages/openmc/deplete/openmc_operator.py:167\u001b[0m, in \u001b[0;36mOpenMCOperator.__init__\u001b[0;34m(self, materials, cross_sections, chain_file, prev_results, diff_burnable_mats, fission_q, dilute_initial, helper_kwargs, reduce_chain, reduce_chain_level)\u001b[0m\n\u001b[1;32m    163\u001b[0m \u001b[38;5;66;03m# Determine which nuclides have cross section data\u001b[39;00m\n\u001b[1;32m    164\u001b[0m \u001b[38;5;66;03m# This nuclides variables contains every nuclides\u001b[39;00m\n\u001b[1;32m    165\u001b[0m \u001b[38;5;66;03m# for which there is an entry in the micro_xs parameter\u001b[39;00m\n\u001b[1;32m    166\u001b[0m openmc\u001b[38;5;241m.\u001b[39mreset_auto_ids()\n\u001b[0;32m--> 167\u001b[0m \u001b[38;5;28mself\u001b[39m\u001b[38;5;241m.\u001b[39mburnable_mats, volumes, all_nuclides \u001b[38;5;241m=\u001b[39m \u001b[38;5;28;43mself\u001b[39;49m\u001b[38;5;241;43m.\u001b[39;49m\u001b[43m_get_burnable_mats\u001b[49m\u001b[43m(\u001b[49m\u001b[43m)\u001b[49m\n\u001b[1;32m    168\u001b[0m \u001b[38;5;28mself\u001b[39m\u001b[38;5;241m.\u001b[39mlocal_mats \u001b[38;5;241m=\u001b[39m _distribute(\u001b[38;5;28mself\u001b[39m\u001b[38;5;241m.\u001b[39mburnable_mats)\n\u001b[1;32m    170\u001b[0m \u001b[38;5;28mself\u001b[39m\u001b[38;5;241m.\u001b[39m_mat_index_map \u001b[38;5;241m=\u001b[39m {\n\u001b[1;32m    171\u001b[0m     lm: \u001b[38;5;28mself\u001b[39m\u001b[38;5;241m.\u001b[39mburnable_mats\u001b[38;5;241m.\u001b[39mindex(lm) \u001b[38;5;28;01mfor\u001b[39;00m lm \u001b[38;5;129;01min\u001b[39;00m \u001b[38;5;28mself\u001b[39m\u001b[38;5;241m.\u001b[39mlocal_mats}\n",
      "File \u001b[0;32m~/anaconda3/envs/omc/lib/python3.10/site-packages/openmc/deplete/openmc_operator.py:226\u001b[0m, in \u001b[0;36mOpenMCOperator._get_burnable_mats\u001b[0;34m(self)\u001b[0m\n\u001b[1;32m    224\u001b[0m burnable_mats\u001b[38;5;241m.\u001b[39madd(\u001b[38;5;28mstr\u001b[39m(mat\u001b[38;5;241m.\u001b[39mid))\n\u001b[1;32m    225\u001b[0m \u001b[38;5;28;01mif\u001b[39;00m mat\u001b[38;5;241m.\u001b[39mvolume \u001b[38;5;129;01mis\u001b[39;00m \u001b[38;5;28;01mNone\u001b[39;00m:\n\u001b[0;32m--> 226\u001b[0m     \u001b[38;5;28;01mraise\u001b[39;00m \u001b[38;5;167;01mRuntimeError\u001b[39;00m(\u001b[38;5;124m\"\u001b[39m\u001b[38;5;124mVolume not specified for depletable \u001b[39m\u001b[38;5;124m\"\u001b[39m\n\u001b[1;32m    227\u001b[0m                        \u001b[38;5;124m\"\u001b[39m\u001b[38;5;124mmaterial with ID=\u001b[39m\u001b[38;5;132;01m{}\u001b[39;00m\u001b[38;5;124m.\u001b[39m\u001b[38;5;124m\"\u001b[39m\u001b[38;5;241m.\u001b[39mformat(mat\u001b[38;5;241m.\u001b[39mid))\n\u001b[1;32m    228\u001b[0m volume[\u001b[38;5;28mstr\u001b[39m(mat\u001b[38;5;241m.\u001b[39mid)] \u001b[38;5;241m=\u001b[39m mat\u001b[38;5;241m.\u001b[39mvolume\n\u001b[1;32m    229\u001b[0m \u001b[38;5;28mself\u001b[39m\u001b[38;5;241m.\u001b[39mheavy_metal \u001b[38;5;241m+\u001b[39m\u001b[38;5;241m=\u001b[39m mat\u001b[38;5;241m.\u001b[39mfissionable_mass\n",
      "\u001b[0;31mRuntimeError\u001b[0m: Volume not specified for depletable material with ID=2."
     ]
    }
   ],
   "source": [
    "model = openmc.model.Model(geometry,materials,settings)\n",
    "operator = openmc.deplete.CoupledOperator(model,\"chain_endfb71_pwr.xml\");\n",
    "\n",
    "# typical PWR power density\n",
    "power_density = [30.5,30.5,30.5,30.5,30.5,\n",
    "                30.5,30.5,30.5,30.5,30.5,\n",
    "                0,0,0,0,0]; # power density W/gHM \n",
    "# power 0 after 4.5 years with cooldown steps of a day, week, month to 2 years\n",
    "days = 24*3600;\n",
    "time_steps = [0.5*days,0.5*days,1*days,5*days,\n",
    "              23*days,150*days,365*days,365*days,\n",
    "              365*days,365*days,\n",
    "              1*days,6*days,23*days,335*days,365*days];\n",
    "cecm = openmc.deplete.CECMIntegrator(operator,time_steps,power_density=power_density);\n",
    "\n",
    "repeat_depletion = False\n",
    "\n",
    "\n",
    "if(repeat_depletion):\n",
    "    cecm.integrate()"
   ]
  },
  {
   "cell_type": "code",
   "execution_count": null,
   "id": "4fc47bfd",
   "metadata": {},
   "outputs": [],
   "source": [
    "# get depletion results to manipulate\n",
    "r = openmc.deplete.Results('depletion_results.h5')\n",
    "burned_mats = r.export_to_materials(burnup_index=15)\n",
    "burned_mats.export_to_xml('BurnedMaterials15.xml')"
   ]
  },
  {
   "cell_type": "code",
   "execution_count": null,
   "id": "75e4605f",
   "metadata": {},
   "outputs": [],
   "source": [
    "print(burned_mats)"
   ]
  },
  {
   "cell_type": "code",
   "execution_count": null,
   "id": "2689391b",
   "metadata": {},
   "outputs": [],
   "source": [
    "mat_tree = et.parse('BurnedMaterials15.xml')\n",
    "root = mat_tree.getroot()\n",
    "i=0\n",
    "for child in root:\n",
    "    if child.attrib['name']=='uo2':\n",
    "        uo2_elem = root[i]\n",
    "    i+=1"
   ]
  },
  {
   "cell_type": "code",
   "execution_count": null,
   "id": "da4da287",
   "metadata": {},
   "outputs": [],
   "source": [
    "# create Material object from element in burned Materials object\n",
    "uo2_elem.set('id',23)\n",
    "print(uo2_elem.items())\n",
    "type(uo2_elem)\n",
    "burned_uo2 = openmc.Material.from_xml_element(uo2_elem)\n",
    "burned_uo2_mass = burned_uo2.get_mass()\n",
    "\n",
    "#burned_uo2 = openmc.Material(name='burned_uo2')\n",
    "#Burned_uo2 = burned_uo2.from_xml_element(uo2_elem)\n",
    "print(burned_uo2)\n",
    "print(burned_uo2_mass)"
   ]
  },
  {
   "cell_type": "code",
   "execution_count": null,
   "id": "5a8f791c",
   "metadata": {},
   "outputs": [],
   "source": [
    "listnuc = burned_uo2.get_nuclides() # list of nuclides present in burned fuel"
   ]
  },
  {
   "cell_type": "code",
   "execution_count": null,
   "id": "4cc18722",
   "metadata": {},
   "outputs": [],
   "source": [
    "# get string with all Pu isotopes present in burned fuel\n",
    "# isotopes that will be present after chemical processing\n",
    "import re\n",
    "Puiso = []\n",
    "for nuclide in listnuc:\n",
    "    if re.search('Pu.+', nuclide):\n",
    "        Puiso.append(nuclide)\n",
    "        \n",
    "        "
   ]
  },
  {
   "cell_type": "code",
   "execution_count": null,
   "id": "0d15c260",
   "metadata": {},
   "outputs": [],
   "source": [
    "pu_mass =0.\n",
    "for nuclide in Puiso:\n",
    "    pu_mass+=burned_uo2.get_mass(nuclide=nuclide)\n",
    "print(pu_mass)"
   ]
  },
  {
   "cell_type": "code",
   "execution_count": null,
   "id": "1eee19e8",
   "metadata": {},
   "outputs": [],
   "source": [
    "pu_mass_fraction = pu_mass/burned_uo2_mass\n",
    "print(pu_mass_fraction)"
   ]
  },
  {
   "cell_type": "code",
   "execution_count": null,
   "id": "8dd8207b",
   "metadata": {},
   "outputs": [],
   "source": [
    "# create metallic Pu from separated Pu product in Burned Fuel\n",
    "SepPu = openmc.Material(name='PuProduct')\n",
    "SepPu.set_density('g/cc',19.84) # density used for all metallic Plutonium in PNNL Compendium\n",
    "\n",
    "print(Puiso)\n",
    "i = len(Puiso)\n",
    "n = 0\n",
    "BurnPuAo = []\n",
    "while (n < i):\n",
    "    BurnPu = burned_uo2.get_nuclide_atom_densities(Puiso[n])\n",
    "    BurnPuAo.append(BurnPu)\n",
    "    SepPu.add_nuclide(Puiso[n],BurnPu[Puiso[n]])\n",
    "    n+=1\n",
    "print(BurnPuAo)\n",
    "print(SepPu)\n"
   ]
  },
  {
   "cell_type": "markdown",
   "id": "5415a632",
   "metadata": {},
   "source": [
    "## Conduct BCM search"
   ]
  },
  {
   "cell_type": "code",
   "execution_count": null,
   "id": "ed04350f",
   "metadata": {},
   "outputs": [],
   "source": [
    "def build_model(radius, fuel):\n",
    "    \n",
    "    \n",
    "    materials = openmc.Materials([fuel])\n",
    "    \n",
    "    # create sphere with radius parameter\n",
    "    sphere_radius = openmc.Sphere(x0=0,y0=0,z0=0,r=radius, boundary_type='vacuum', name='BCM')\n",
    "    \n",
    "    # create core cell\n",
    "    core_cell = openmc.Cell(name='Bare Critical Sphere')\n",
    "    core_cell.fill = fuel\n",
    "    core_cell.region = -sphere_radius\n",
    "    \n",
    "    # create universe geometry\n",
    "    root_universe = openmc.Universe(name='root universe')\n",
    "    root_universe.add_cells([core_cell])\n",
    "    \n",
    "    geometry = openmc.Geometry(root_universe)\n",
    "    # define criticality settings\n",
    "    settings = openmc.Settings()\n",
    "    settings.run_mode = 'eigenvalue' # keff calculation\n",
    "    settings.particles = 5000 # particles per batch (mo betta)\n",
    "    settings.batches = 250 # number of batches\n",
    "    settings.inactive = 50 # inactive batches\n",
    "    \n",
    "    settings.output = {'tallies': False}\n",
    "    \n",
    "    model = openmc.model.Model(geometry,materials,settings)\n",
    "    \n",
    "    return model"
   ]
  },
  {
   "cell_type": "code",
   "execution_count": null,
   "id": "c79c7c12",
   "metadata": {},
   "outputs": [],
   "source": [
    "crit_r, guesses, keffs = openmc.search_for_keff(build_model, bracket=[1,50],model_args={'fuel':SepPu},\n",
    "                                                tol=1e-4, print_iterations=True,\n",
    "                                               run_args={'output':False})\n",
    "# print results and collect data\n",
    "print('Burned Plutonium Critical Mass')\n",
    "print('The bare critical sphere radius is %7.4f cm.' % crit_r)\n",
    "crit_v = 4/3*pi*crit_r**3 # volume of critical sphere (cc)\n",
    "\n",
    "BCM = crit_v * 19.84 /1000 # mass of critical radius (kg)\n",
    "print('The bare critical mass is %7.3f kg.' % BCM)\n",
    "\n",
    "BCMs = np.array(BCM)\n",
    "print(BCMs,\n",
    "      '\\n')"
   ]
  },
  {
   "cell_type": "code",
   "execution_count": null,
   "id": "902774e8",
   "metadata": {},
   "outputs": [],
   "source": [
    "net_weight_LEU = BCM/pu_mass_fraction\n",
    "print(net_weight_LEU,' kg') # in kg only fuel material (no clad)"
   ]
  },
  {
   "cell_type": "code",
   "execution_count": null,
   "id": "fc92f296",
   "metadata": {
    "scrolled": true
   },
   "outputs": [],
   "source": [
    "# get activity from burned fuel\n",
    "print('Target material activity is %5.3g Bq/g ' % burned_uo2.get_activity())\n",
    "burnact = burned_uo2.get_activity(by_nuclide=True,units='Bq/g')\n",
    "print(burnact)"
   ]
  },
  {
   "cell_type": "code",
   "execution_count": null,
   "id": "526aec65",
   "metadata": {},
   "outputs": [],
   "source": [
    "# plot activities in pie chart\n",
    "# end of cool down period (2 years)\n",
    "\n",
    "#newBurnact = burnact.copy()\n",
    "newBurnact = {}\n",
    "thresh = 3.7e8\n",
    "for i, j in burnact.items():\n",
    "        if j >= thresh:\n",
    "                newBurnact[i] = j\n",
    "\n",
    "\n",
    "\n",
    "labels = []\n",
    "sizes = []\n",
    "for x, y in newBurnact.items():\n",
    "    labels.append(x)\n",
    "    sizes.append(y)\n",
    "    \n",
    "print('newburnact',len(newBurnact))\n",
    "print('burnact',len(burnact)) \n",
    "plt.pie(sizes, labels=labels)\n",
    "plt.axis('equal')\n",
    "plt.show()"
   ]
  },
  {
   "cell_type": "code",
   "execution_count": null,
   "id": "f16cb9c3",
   "metadata": {},
   "outputs": [],
   "source": [
    "# fuel uranium dioxode (PNNL)\n",
    "fuel = openmc.Material(name='uo2')\n",
    "fuel.set_density('g/cc',10.96)\n",
    "fuel.add_nuclide('U234', 0.000090, 'ao')\n",
    "fuel.add_nuclide('U235', 0.010124, 'ao')\n",
    "fuel.add_nuclide('U236', 0.000046, 'ao')\n",
    "fuel.add_nuclide('U238', 0.323072, 'ao')\n",
    "fuel.add_element('O', 0.666667, 'ao')\n",
    "\n",
    "clad = openmc.Material(name='Zirc4')\n",
    "clad.set_density('g/cc', 6.56)\n",
    "clad.add_element('O', 0.006790, 'ao')\n",
    "clad.add_element('Cr', 0.001741, 'ao')\n",
    "clad.add_element('Fe', 0.003242, 'ao')\n",
    "clad.add_element('Zr', 0.977549, 'ao')\n",
    "clad.add_element('Sn', 0.010677, 'ao')\n",
    "\n",
    "water = openmc.Material(name='h2o')\n",
    "water.set_density('g/cc', 0.712)\n",
    "water.add_element('H', 2)\n",
    "water.add_element('O', 1)\n",
    "water.add_s_alpha_beta('c_H_in_H2O')\n",
    "\n",
    "materials = openmc.Materials([fuel, clad, water])\n",
    "materials.export_to_xml()"
   ]
  },
  {
   "cell_type": "code",
   "execution_count": null,
   "id": "32b843e1",
   "metadata": {},
   "outputs": [],
   "source": [
    "## Unsure this is working for the alternative Time step\n",
    "\n",
    "\n",
    "# get activity at end of power cycle at start of cooldown\n",
    "burned_mats10 = r.export_to_materials(burnup_index=10)\n",
    "burned_mats10.export_to_xml('BurnedMaterials10.xml')\n",
    "print(burned_mats10)\n",
    "mat_tree2 = et.parse('BurnedMaterials10.xml')\n",
    "root2 = mat_tree2.getroot()\n",
    "i=0\n",
    "for child in root:\n",
    "    if child.attrib['name']=='uo2':\n",
    "        uo2_elem2 = root2[i]\n",
    "    i+=1\n",
    "    \n",
    "uo2_elem2.set('id',23+1)\n",
    "burned_uo210 = openmc.Material.from_xml_element(uo2_elem2)\n",
    "\n",
    "print('Target material activity is %5.3g Bq/g ' % burned_uo210.get_activity())\n",
    "burnact2 = burned_uo210.get_activity(by_nuclide=True,units='Bq/g')\n",
    "print(burnact2)\n",
    "labels2 = []\n",
    "sizes2 = []\n",
    "for x, y in burnact2.items():\n",
    "    labels2.append(x)\n",
    "    sizes2.append(y)\n",
    "    \n",
    "plt.pie(sizes2, labels=labels2)\n",
    "plt.axis('equal')\n",
    "plt.show()"
   ]
  },
  {
   "cell_type": "code",
   "execution_count": null,
   "id": "8f0df90d",
   "metadata": {},
   "outputs": [],
   "source": [
    "print(burnact)"
   ]
  },
  {
   "cell_type": "code",
   "execution_count": null,
   "id": "61109c29",
   "metadata": {},
   "outputs": [],
   "source": [
    "total_spec_act = sum(burnact.values()) # sum of the specific activity of each isotope (Bq/g)\n",
    "print(total_spec_act,' Bq/g')"
   ]
  },
  {
   "cell_type": "code",
   "execution_count": null,
   "id": "2b2bacf6",
   "metadata": {},
   "outputs": [],
   "source": [
    "print(net_weight_LEU,' kg')"
   ]
  },
  {
   "cell_type": "code",
   "execution_count": null,
   "id": "167f30ae",
   "metadata": {},
   "outputs": [],
   "source": [
    "totalact = total_spec_act*net_weight_LEU/(3.7e7) # total activity from nuclear fuel required for one BCM (Ci)\n",
    "print(totalact,' Ci')"
   ]
  },
  {
   "cell_type": "code",
   "execution_count": null,
   "id": "7305da88",
   "metadata": {},
   "outputs": [],
   "source": []
  }
 ],
 "metadata": {
  "kernelspec": {
   "display_name": "Python 3 (ipykernel)",
   "language": "python",
   "name": "python3"
  },
  "language_info": {
   "codemirror_mode": {
    "name": "ipython",
    "version": 3
   },
   "file_extension": ".py",
   "mimetype": "text/x-python",
   "name": "python",
   "nbconvert_exporter": "python",
   "pygments_lexer": "ipython3",
   "version": "3.10.6"
  }
 },
 "nbformat": 4,
 "nbformat_minor": 5
}
